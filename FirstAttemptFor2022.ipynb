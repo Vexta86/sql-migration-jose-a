{
 "cells": [
  {
   "cell_type": "code",
   "outputs": [
    {
     "data": {
      "text/plain": "       Unnamed: 1 INSTITUCION EDUCATIVA JOSE ACEVEDO Y GÓMEZ Unnamed: 3  \\\n48 NaN        NaN                             Desempeño Alto         19   \n49 NaN        NaN                           Desempeño Básico          6   \n50 NaN        NaN                             Desempeño Bajo          0   \n51 NaN        NaN                                        NaN        NaN   \n52 NaN        NaN                                        NaN        NaN   \n\n   Unnamed: 4 Unnamed: 5 Unnamed: 6 Unnamed: 7 VERSIÓN: Unnamed: 9  ...  \\\n48         19         20         21         32       32          8  ...   \n49          7          6          6          0        0          5  ...   \n50          0          0          0          0        0         10  ...   \n51        NaN        NaN        NaN        NaN      NaN        NaN  ...   \n52        NaN        NaN        NaN        NaN      NaN        NaN  ...   \n\n   Unnamed: 12 Unnamed: 13 Unnamed: 14 Unnamed: 15 Unnamed: 16  \\\n48          25           0         NaN         NaN         NaN   \n49           3           0         NaN         NaN         NaN   \n50           1           0         NaN         NaN         NaN   \n51         NaN         NaN         NaN         NaN         NaN   \n52         NaN         NaN         NaN         NaN         NaN   \n\n          Unnamed: 17  Unnamed: 18 Unnamed: 19 Unnamed: 20 Unnamed: 21  \n48          Desempeño     Cantidad         NaN         NaN         NaN  \n49  Dsempeño Superior           10         NaN         NaN         NaN  \n50     Desempeño Alto          192         NaN         NaN         NaN  \n51   Desempeño Básico           53         NaN         NaN         NaN  \n52     Desempeño Bajo           16         NaN         NaN         NaN  \n\n[5 rows x 22 columns]",
      "text/html": "<div>\n<style scoped>\n    .dataframe tbody tr th:only-of-type {\n        vertical-align: middle;\n    }\n\n    .dataframe tbody tr th {\n        vertical-align: top;\n    }\n\n    .dataframe thead th {\n        text-align: right;\n    }\n</style>\n<table border=\"1\" class=\"dataframe\">\n  <thead>\n    <tr style=\"text-align: right;\">\n      <th></th>\n      <th></th>\n      <th>Unnamed: 1</th>\n      <th>INSTITUCION EDUCATIVA JOSE ACEVEDO Y GÓMEZ</th>\n      <th>Unnamed: 3</th>\n      <th>Unnamed: 4</th>\n      <th>Unnamed: 5</th>\n      <th>Unnamed: 6</th>\n      <th>Unnamed: 7</th>\n      <th>VERSIÓN:</th>\n      <th>Unnamed: 9</th>\n      <th>...</th>\n      <th>Unnamed: 12</th>\n      <th>Unnamed: 13</th>\n      <th>Unnamed: 14</th>\n      <th>Unnamed: 15</th>\n      <th>Unnamed: 16</th>\n      <th>Unnamed: 17</th>\n      <th>Unnamed: 18</th>\n      <th>Unnamed: 19</th>\n      <th>Unnamed: 20</th>\n      <th>Unnamed: 21</th>\n    </tr>\n  </thead>\n  <tbody>\n    <tr>\n      <th>48</th>\n      <td>NaN</td>\n      <td>NaN</td>\n      <td>Desempeño Alto</td>\n      <td>19</td>\n      <td>19</td>\n      <td>20</td>\n      <td>21</td>\n      <td>32</td>\n      <td>32</td>\n      <td>8</td>\n      <td>...</td>\n      <td>25</td>\n      <td>0</td>\n      <td>NaN</td>\n      <td>NaN</td>\n      <td>NaN</td>\n      <td>Desempeño</td>\n      <td>Cantidad</td>\n      <td>NaN</td>\n      <td>NaN</td>\n      <td>NaN</td>\n    </tr>\n    <tr>\n      <th>49</th>\n      <td>NaN</td>\n      <td>NaN</td>\n      <td>Desempeño Básico</td>\n      <td>6</td>\n      <td>7</td>\n      <td>6</td>\n      <td>6</td>\n      <td>0</td>\n      <td>0</td>\n      <td>5</td>\n      <td>...</td>\n      <td>3</td>\n      <td>0</td>\n      <td>NaN</td>\n      <td>NaN</td>\n      <td>NaN</td>\n      <td>Dsempeño Superior</td>\n      <td>10</td>\n      <td>NaN</td>\n      <td>NaN</td>\n      <td>NaN</td>\n    </tr>\n    <tr>\n      <th>50</th>\n      <td>NaN</td>\n      <td>NaN</td>\n      <td>Desempeño Bajo</td>\n      <td>0</td>\n      <td>0</td>\n      <td>0</td>\n      <td>0</td>\n      <td>0</td>\n      <td>0</td>\n      <td>10</td>\n      <td>...</td>\n      <td>1</td>\n      <td>0</td>\n      <td>NaN</td>\n      <td>NaN</td>\n      <td>NaN</td>\n      <td>Desempeño Alto</td>\n      <td>192</td>\n      <td>NaN</td>\n      <td>NaN</td>\n      <td>NaN</td>\n    </tr>\n    <tr>\n      <th>51</th>\n      <td>NaN</td>\n      <td>NaN</td>\n      <td>NaN</td>\n      <td>NaN</td>\n      <td>NaN</td>\n      <td>NaN</td>\n      <td>NaN</td>\n      <td>NaN</td>\n      <td>NaN</td>\n      <td>NaN</td>\n      <td>...</td>\n      <td>NaN</td>\n      <td>NaN</td>\n      <td>NaN</td>\n      <td>NaN</td>\n      <td>NaN</td>\n      <td>Desempeño Básico</td>\n      <td>53</td>\n      <td>NaN</td>\n      <td>NaN</td>\n      <td>NaN</td>\n    </tr>\n    <tr>\n      <th>52</th>\n      <td>NaN</td>\n      <td>NaN</td>\n      <td>NaN</td>\n      <td>NaN</td>\n      <td>NaN</td>\n      <td>NaN</td>\n      <td>NaN</td>\n      <td>NaN</td>\n      <td>NaN</td>\n      <td>NaN</td>\n      <td>...</td>\n      <td>NaN</td>\n      <td>NaN</td>\n      <td>NaN</td>\n      <td>NaN</td>\n      <td>NaN</td>\n      <td>Desempeño Bajo</td>\n      <td>16</td>\n      <td>NaN</td>\n      <td>NaN</td>\n      <td>NaN</td>\n    </tr>\n  </tbody>\n</table>\n<p>5 rows × 22 columns</p>\n</div>"
     },
     "execution_count": 2,
     "metadata": {},
     "output_type": "execute_result"
    }
   ],
   "source": [
    "import pandas as pd\n",
    "initial_df = pd.read_excel(\"D:\\\\Projects\\\\Akros\\\\joseacevedogomez\\\\CONSOLIDADO DE NOTAS 2008 A 2022\\\\colina\\\\2021\\\\EC-F04_CONSOLIDADO_NOTAS_1_COLINA.xlsx\")\n",
    "\n",
    "initial_df.tail()"
   ],
   "metadata": {
    "collapsed": false,
    "ExecuteTime": {
     "end_time": "2025-01-24T14:47:36.918474100Z",
     "start_time": "2025-01-24T14:47:36.867751900Z"
    }
   },
   "id": "4138a6acd41438d2",
   "execution_count": 2
  },
  {
   "cell_type": "markdown",
   "source": [],
   "metadata": {
    "collapsed": false
   },
   "id": "200ec6de35e6e3dd"
  },
  {
   "cell_type": "code",
   "outputs": [],
   "source": [
    "def process_workbook(route, quarter):\n",
    "    df = pd.read_excel(route, sheet_name=quarter ) \n",
    "    \n",
    "    df.columns = df.iloc[8].tolist()\n",
    "    df = df.iloc[9:,2:]\n",
    "    df = df.loc[:, 'APELLIDOS Y NOMBRES':'Total pérdidas'].iloc[:, :-1]\n",
    "    df = df.set_index('APELLIDOS Y NOMBRES')\n",
    "\n",
    "    df = df.infer_objects()\n",
    "    replacement_dict = {\n",
    "        'DBAJO': 'BJ',\n",
    "        'DB': 'B',\n",
    "        'DA': 'A',\n",
    "        'DS': 'S'\n",
    "        \n",
    "    }\n",
    "    df.replace(replacement_dict, inplace=True)\n",
    "    \n",
    "    # Replace all other values with None\n",
    "    for column in df.columns:\n",
    "        df[column] = df[column].map(lambda x: None if x not in replacement_dict.values() else x)\n",
    "    \n",
    "    df.dropna(axis=1, how='all', inplace=True)\n",
    "    df.dropna(axis=0, how='all', inplace=True)\n",
    "    \n",
    "    \n",
    "    return df\n",
    "\n",
    "def extract_data(route, quarter):\n",
    "    df = pd.read_excel(route, sheet_name=quarter ) \n",
    "    \n",
    "    data = {\n",
    "        'Grado':None,\n",
    "        'Grupo':None,\n",
    "        'Periodo': None\n",
    "    }\n",
    "    grado_grupo = df.iloc[4,1]\n",
    "    \n",
    "    if len(grado_grupo.split(': ')) > 1:\n",
    "        grado_grupo = grado_grupo.split(': ')[1]\n",
    "    \n",
    "    if len(df.iloc[5,1].split(': ')) > 1:\n",
    "        data['Periodo'] = df.iloc[5,1].split(': ')[1].strip()\n",
    "    else:\n",
    "        data['Periodo'] = df.iloc[5,1]\n",
    "    if len(grado_grupo.split()) > 1:\n",
    "        data['Grado'] = grado_grupo.split()[0]\n",
    "        data['Grupo'] = grado_grupo.split()[1]\n",
    "    else:\n",
    "        data['Grado'] = grado_grupo.strip()\n",
    "    return  data\n",
    "\n"
   ],
   "metadata": {
    "collapsed": false,
    "ExecuteTime": {
     "end_time": "2025-01-24T14:48:36.523705400Z",
     "start_time": "2025-01-24T14:48:36.514313100Z"
    }
   },
   "id": "c854cf25aec9b090",
   "execution_count": 4
  },
  {
   "cell_type": "code",
   "outputs": [],
   "source": [
    "import unicodedata\n",
    "import re\n",
    "\n",
    "\n",
    "def remove_tildes(text):\n",
    "    \"\"\"Removes the accents of each vowel in a text\n",
    "    \n",
    "    :param str text: the text with vowels with accents \n",
    "    :return str: the text without the accents \n",
    "    \"\"\"\n",
    "    # Normalize and remove accents\n",
    "    text = ''.join(\n",
    "        char for char in unicodedata.normalize('NFD', text)\n",
    "        if unicodedata.category(char) != 'Mn'\n",
    "    )\n",
    "    return text.strip()\n",
    "\n",
    "def clean_name(name):\n",
    "    \"\"\"Cleans a name by removing numbers and accents.\n",
    "    \n",
    "    :param str name: The name to be cleaned.\n",
    "    :return str: The cleaned name.\n",
    "    \"\"\"\n",
    "    # Remove numbers using regex\n",
    "    name = re.sub(r'\\d+', '', name)\n",
    "    \n",
    "    # Remove tildes (accents) from vowels\n",
    "    name = remove_tildes(name)\n",
    "    \n",
    "    # Return the cleaned name\n",
    "    return name.strip()\n",
    "\n",
    "def clean_column_name(column):\n",
    "    \"\"\"Cleans the column name by:\n",
    "    - Replacing spaces with underscores.\n",
    "    - Removing accents from vowels.\n",
    "    \n",
    "    :param str column: The original column name.\n",
    "        \n",
    "    :return str: The cleaned column name.\n",
    "    \"\"\"\n",
    "    # Replace spaces with underscores\n",
    "    column = column.replace(\" \", \"_\")\n",
    "    \n",
    "    # Normalize and remove accents\n",
    "    column = remove_tildes(column)\n",
    "    \n",
    "    # Convert to lowercase and strip any extra whitespace\n",
    "    return column.strip().lower()"
   ],
   "metadata": {
    "collapsed": false,
    "ExecuteTime": {
     "end_time": "2025-01-24T15:37:03.954767100Z",
     "start_time": "2025-01-24T15:37:03.941252700Z"
    }
   },
   "id": "fbad13d8f1cac6f3",
   "execution_count": 27
  },
  {
   "cell_type": "code",
   "outputs": [
    {
     "ename": "AttributeError",
     "evalue": "'float' object has no attribute 'split'",
     "output_type": "error",
     "traceback": [
      "\u001B[1;31m---------------------------------------------------------------------------\u001B[0m",
      "\u001B[1;31mAttributeError\u001B[0m                            Traceback (most recent call last)",
      "Cell \u001B[1;32mIn[34], line 23\u001B[0m\n\u001B[0;32m     20\u001B[0m             output\u001B[38;5;241m.\u001B[39mappend((estudiante, materia, nota, grado, grupo))\n\u001B[0;32m     21\u001B[0m     \u001B[38;5;28;01mreturn\u001B[39;00m output\n\u001B[1;32m---> 23\u001B[0m \u001B[43mprocess_df\u001B[49m\u001B[43m(\u001B[49m\u001B[43mexample_route\u001B[49m\u001B[43m)\u001B[49m\n",
      "Cell \u001B[1;32mIn[34], line 6\u001B[0m, in \u001B[0;36mprocess_df\u001B[1;34m(route)\u001B[0m\n\u001B[0;32m      4\u001B[0m output \u001B[38;5;241m=\u001B[39m []\n\u001B[0;32m      5\u001B[0m df \u001B[38;5;241m=\u001B[39m process_workbook(route, \u001B[38;5;241m2\u001B[39m)\n\u001B[1;32m----> 6\u001B[0m data \u001B[38;5;241m=\u001B[39m \u001B[43mextract_data\u001B[49m\u001B[43m(\u001B[49m\u001B[43mroute\u001B[49m\u001B[43m,\u001B[49m\u001B[43m \u001B[49m\u001B[38;5;241;43m2\u001B[39;49m\u001B[43m)\u001B[49m   \n\u001B[0;32m      7\u001B[0m \u001B[38;5;28;01mfor\u001B[39;00m index, row \u001B[38;5;129;01min\u001B[39;00m df\u001B[38;5;241m.\u001B[39miterrows():\n\u001B[0;32m      8\u001B[0m     \u001B[38;5;28;01mfor\u001B[39;00m column \u001B[38;5;129;01min\u001B[39;00m df\u001B[38;5;241m.\u001B[39mcolumns:\n",
      "Cell \u001B[1;32mIn[4], line 39\u001B[0m, in \u001B[0;36mextract_data\u001B[1;34m(route, quarter)\u001B[0m\n\u001B[0;32m     32\u001B[0m data \u001B[38;5;241m=\u001B[39m {\n\u001B[0;32m     33\u001B[0m     \u001B[38;5;124m'\u001B[39m\u001B[38;5;124mGrado\u001B[39m\u001B[38;5;124m'\u001B[39m:\u001B[38;5;28;01mNone\u001B[39;00m,\n\u001B[0;32m     34\u001B[0m     \u001B[38;5;124m'\u001B[39m\u001B[38;5;124mGrupo\u001B[39m\u001B[38;5;124m'\u001B[39m:\u001B[38;5;28;01mNone\u001B[39;00m,\n\u001B[0;32m     35\u001B[0m     \u001B[38;5;124m'\u001B[39m\u001B[38;5;124mPeriodo\u001B[39m\u001B[38;5;124m'\u001B[39m: \u001B[38;5;28;01mNone\u001B[39;00m\n\u001B[0;32m     36\u001B[0m }\n\u001B[0;32m     37\u001B[0m grado_grupo \u001B[38;5;241m=\u001B[39m df\u001B[38;5;241m.\u001B[39miloc[\u001B[38;5;241m4\u001B[39m,\u001B[38;5;241m1\u001B[39m]\n\u001B[1;32m---> 39\u001B[0m \u001B[38;5;28;01mif\u001B[39;00m \u001B[38;5;28mlen\u001B[39m(\u001B[43mgrado_grupo\u001B[49m\u001B[38;5;241;43m.\u001B[39;49m\u001B[43msplit\u001B[49m(\u001B[38;5;124m'\u001B[39m\u001B[38;5;124m: \u001B[39m\u001B[38;5;124m'\u001B[39m)) \u001B[38;5;241m>\u001B[39m \u001B[38;5;241m1\u001B[39m:\n\u001B[0;32m     40\u001B[0m     grado_grupo \u001B[38;5;241m=\u001B[39m grado_grupo\u001B[38;5;241m.\u001B[39msplit(\u001B[38;5;124m'\u001B[39m\u001B[38;5;124m: \u001B[39m\u001B[38;5;124m'\u001B[39m)[\u001B[38;5;241m1\u001B[39m]\n\u001B[0;32m     42\u001B[0m \u001B[38;5;28;01mif\u001B[39;00m \u001B[38;5;28mlen\u001B[39m(df\u001B[38;5;241m.\u001B[39miloc[\u001B[38;5;241m5\u001B[39m,\u001B[38;5;241m1\u001B[39m]\u001B[38;5;241m.\u001B[39msplit(\u001B[38;5;124m'\u001B[39m\u001B[38;5;124m: \u001B[39m\u001B[38;5;124m'\u001B[39m)) \u001B[38;5;241m>\u001B[39m \u001B[38;5;241m1\u001B[39m:\n",
      "\u001B[1;31mAttributeError\u001B[0m: 'float' object has no attribute 'split'"
     ]
    }
   ],
   "source": [
    "example_route = (\"D:\\\\Projects\\\\Akros\\\\joseacevedogomez\\\\Notas 2024\\\\EC-F04_CONSOLIDADO_1B_COSTA_RICA.xlsx\")\n",
    "\n",
    "def process_df(route):\n",
    "    output = []\n",
    "    df = process_workbook(route, 2)\n",
    "    data = extract_data(route, 2)   \n",
    "    for index, row in df.iterrows():\n",
    "        for column in df.columns:\n",
    "            \n",
    "            estudiante = clean_name(index)\n",
    "            \n",
    "            materia = clean_column_name(column)\n",
    "            \n",
    "            nota = row[column]\n",
    "            \n",
    "            grado = clean_column_name(data['Grado'])\n",
    "            \n",
    "            grupo = data['Grupo']\n",
    "            \n",
    "            output.append((estudiante, materia, nota, grado, grupo))\n",
    "    return output\n",
    "            \n",
    "process_df(example_route)"
   ],
   "metadata": {
    "collapsed": false,
    "ExecuteTime": {
     "end_time": "2025-01-24T15:41:17.006086600Z",
     "start_time": "2025-01-24T15:41:16.902065500Z"
    }
   },
   "id": "c83864f805e1a46a",
   "execution_count": 34
  },
  {
   "cell_type": "code",
   "outputs": [
    {
     "name": "stdout",
     "output_type": "stream",
     "text": [
      "\n",
      "Processing file: D:\\Projects\\Akros\\joseacevedogomez\\Notas 2024\\EC-F04_CONSOLIDADO_1A_COLINA.xlsx\n",
      "280\n",
      "\n",
      "Processing file: D:\\Projects\\Akros\\joseacevedogomez\\Notas 2024\\EC-F04_CONSOLIDADO_1A_COSTA_RICA.xlsx\n",
      "270\n",
      "\n",
      "Processing file: D:\\Projects\\Akros\\joseacevedogomez\\Notas 2024\\EC-F04_CONSOLIDADO_1B_COSTA_RICA.xlsx\n"
     ]
    },
    {
     "ename": "AttributeError",
     "evalue": "'float' object has no attribute 'split'",
     "output_type": "error",
     "traceback": [
      "\u001B[1;31m---------------------------------------------------------------------------\u001B[0m",
      "\u001B[1;31mAttributeError\u001B[0m                            Traceback (most recent call last)",
      "Cell \u001B[1;32mIn[32], line 21\u001B[0m\n\u001B[0;32m     18\u001B[0m             \u001B[38;5;66;03m# El periodo 3 contiene las notas definitivas\u001B[39;00m\n\u001B[0;32m     19\u001B[0m             \u001B[38;5;28mprint\u001B[39m(\u001B[38;5;28mlen\u001B[39m(process_df(file_path)))\n\u001B[1;32m---> 21\u001B[0m \u001B[43mprocess_folder\u001B[49m\u001B[43m(\u001B[49m\u001B[38;5;124;43m\"\u001B[39;49m\u001B[38;5;124;43mD:\u001B[39;49m\u001B[38;5;130;43;01m\\\\\u001B[39;49;00m\u001B[38;5;124;43mProjects\u001B[39;49m\u001B[38;5;130;43;01m\\\\\u001B[39;49;00m\u001B[38;5;124;43mAkros\u001B[39;49m\u001B[38;5;130;43;01m\\\\\u001B[39;49;00m\u001B[38;5;124;43mjoseacevedogomez\u001B[39;49m\u001B[38;5;130;43;01m\\\\\u001B[39;49;00m\u001B[38;5;124;43mNotas 2024\u001B[39;49m\u001B[38;5;124;43m\"\u001B[39;49m\u001B[43m)\u001B[49m\n",
      "Cell \u001B[1;32mIn[32], line 19\u001B[0m, in \u001B[0;36mprocess_folder\u001B[1;34m(folder_path)\u001B[0m\n\u001B[0;32m     17\u001B[0m \u001B[38;5;28mprint\u001B[39m(\u001B[38;5;124mf\u001B[39m\u001B[38;5;124m\"\u001B[39m\u001B[38;5;130;01m\\n\u001B[39;00m\u001B[38;5;124mProcessing file: \u001B[39m\u001B[38;5;132;01m{\u001B[39;00mfile_path\u001B[38;5;132;01m}\u001B[39;00m\u001B[38;5;124m\"\u001B[39m)\n\u001B[0;32m     18\u001B[0m \u001B[38;5;66;03m# El periodo 3 contiene las notas definitivas\u001B[39;00m\n\u001B[1;32m---> 19\u001B[0m \u001B[38;5;28mprint\u001B[39m(\u001B[38;5;28mlen\u001B[39m(\u001B[43mprocess_df\u001B[49m\u001B[43m(\u001B[49m\u001B[43mfile_path\u001B[49m\u001B[43m)\u001B[49m))\n",
      "Cell \u001B[1;32mIn[28], line 6\u001B[0m, in \u001B[0;36mprocess_df\u001B[1;34m(route)\u001B[0m\n\u001B[0;32m      4\u001B[0m output \u001B[38;5;241m=\u001B[39m []\n\u001B[0;32m      5\u001B[0m df \u001B[38;5;241m=\u001B[39m process_workbook(route, \u001B[38;5;241m2\u001B[39m)\n\u001B[1;32m----> 6\u001B[0m data \u001B[38;5;241m=\u001B[39m \u001B[43mextract_data\u001B[49m\u001B[43m(\u001B[49m\u001B[43mroute\u001B[49m\u001B[43m,\u001B[49m\u001B[43m \u001B[49m\u001B[38;5;241;43m2\u001B[39;49m\u001B[43m)\u001B[49m   \n\u001B[0;32m      7\u001B[0m \u001B[38;5;28;01mfor\u001B[39;00m index, row \u001B[38;5;129;01min\u001B[39;00m df\u001B[38;5;241m.\u001B[39miterrows():\n\u001B[0;32m      8\u001B[0m     \u001B[38;5;28;01mfor\u001B[39;00m column \u001B[38;5;129;01min\u001B[39;00m df\u001B[38;5;241m.\u001B[39mcolumns:\n",
      "Cell \u001B[1;32mIn[4], line 39\u001B[0m, in \u001B[0;36mextract_data\u001B[1;34m(route, quarter)\u001B[0m\n\u001B[0;32m     32\u001B[0m data \u001B[38;5;241m=\u001B[39m {\n\u001B[0;32m     33\u001B[0m     \u001B[38;5;124m'\u001B[39m\u001B[38;5;124mGrado\u001B[39m\u001B[38;5;124m'\u001B[39m:\u001B[38;5;28;01mNone\u001B[39;00m,\n\u001B[0;32m     34\u001B[0m     \u001B[38;5;124m'\u001B[39m\u001B[38;5;124mGrupo\u001B[39m\u001B[38;5;124m'\u001B[39m:\u001B[38;5;28;01mNone\u001B[39;00m,\n\u001B[0;32m     35\u001B[0m     \u001B[38;5;124m'\u001B[39m\u001B[38;5;124mPeriodo\u001B[39m\u001B[38;5;124m'\u001B[39m: \u001B[38;5;28;01mNone\u001B[39;00m\n\u001B[0;32m     36\u001B[0m }\n\u001B[0;32m     37\u001B[0m grado_grupo \u001B[38;5;241m=\u001B[39m df\u001B[38;5;241m.\u001B[39miloc[\u001B[38;5;241m4\u001B[39m,\u001B[38;5;241m1\u001B[39m]\n\u001B[1;32m---> 39\u001B[0m \u001B[38;5;28;01mif\u001B[39;00m \u001B[38;5;28mlen\u001B[39m(\u001B[43mgrado_grupo\u001B[49m\u001B[38;5;241;43m.\u001B[39;49m\u001B[43msplit\u001B[49m(\u001B[38;5;124m'\u001B[39m\u001B[38;5;124m: \u001B[39m\u001B[38;5;124m'\u001B[39m)) \u001B[38;5;241m>\u001B[39m \u001B[38;5;241m1\u001B[39m:\n\u001B[0;32m     40\u001B[0m     grado_grupo \u001B[38;5;241m=\u001B[39m grado_grupo\u001B[38;5;241m.\u001B[39msplit(\u001B[38;5;124m'\u001B[39m\u001B[38;5;124m: \u001B[39m\u001B[38;5;124m'\u001B[39m)[\u001B[38;5;241m1\u001B[39m]\n\u001B[0;32m     42\u001B[0m \u001B[38;5;28;01mif\u001B[39;00m \u001B[38;5;28mlen\u001B[39m(df\u001B[38;5;241m.\u001B[39miloc[\u001B[38;5;241m5\u001B[39m,\u001B[38;5;241m1\u001B[39m]\u001B[38;5;241m.\u001B[39msplit(\u001B[38;5;124m'\u001B[39m\u001B[38;5;124m: \u001B[39m\u001B[38;5;124m'\u001B[39m)) \u001B[38;5;241m>\u001B[39m \u001B[38;5;241m1\u001B[39m:\n",
      "\u001B[1;31mAttributeError\u001B[0m: 'float' object has no attribute 'split'"
     ]
    }
   ],
   "source": [
    "import os\n",
    "\n",
    "\n",
    "def process_folder(folder_path):\n",
    "    \"\"\"\n",
    "    Process all SQL files in a folder and save their processed data as JSON.\n",
    "    \"\"\"\n",
    "\n",
    "    if not os.path.exists(folder_path):\n",
    "        print(f\"Folder does not exist: {folder_path}\")\n",
    "        return\n",
    "\n",
    "    for file_name in os.listdir(folder_path):\n",
    "        file_path = os.path.join(folder_path, file_name)\n",
    "\n",
    "        if os.path.isfile(file_path) and file_name.lower().endswith('.xlsx'):\n",
    "            print(f\"\\nProcessing file: {file_path}\")\n",
    "            # El periodo 3 contiene las notas definitivas\n",
    "            print(len(process_df(file_path)))\n",
    "\n",
    "process_folder(\"D:\\\\Projects\\\\Akros\\\\joseacevedogomez\\\\Notas 2024\")\n",
    "            \n"
   ],
   "metadata": {
    "collapsed": false,
    "ExecuteTime": {
     "end_time": "2025-01-24T15:39:26.421527600Z",
     "start_time": "2025-01-24T15:39:26.062058200Z"
    }
   },
   "id": "f94ed2bc95a8c6f4",
   "execution_count": 32
  }
 ],
 "metadata": {
  "kernelspec": {
   "display_name": "Python 3",
   "language": "python",
   "name": "python3"
  },
  "language_info": {
   "codemirror_mode": {
    "name": "ipython",
    "version": 2
   },
   "file_extension": ".py",
   "mimetype": "text/x-python",
   "name": "python",
   "nbconvert_exporter": "python",
   "pygments_lexer": "ipython2",
   "version": "2.7.6"
  }
 },
 "nbformat": 4,
 "nbformat_minor": 5
}
