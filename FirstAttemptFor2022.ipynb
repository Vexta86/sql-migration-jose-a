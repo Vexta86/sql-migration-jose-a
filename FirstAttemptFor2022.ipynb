{
 "cells": [
  {
   "cell_type": "code",
   "outputs": [
    {
     "ename": "AttributeError",
     "evalue": "module 'tabula' has no attribute 'read_pdf'",
     "output_type": "error",
     "traceback": [
      "\u001B[1;31m---------------------------------------------------------------------------\u001B[0m",
      "\u001B[1;31mAttributeError\u001B[0m                            Traceback (most recent call last)",
      "Cell \u001B[1;32mIn[11], line 6\u001B[0m\n\u001B[0;32m      4\u001B[0m initial_df \u001B[38;5;241m=\u001B[39m pd\u001B[38;5;241m.\u001B[39mread_excel(\u001B[38;5;124m\"\u001B[39m\u001B[38;5;124mD:\u001B[39m\u001B[38;5;130;01m\\\\\u001B[39;00m\u001B[38;5;124mProjects\u001B[39m\u001B[38;5;130;01m\\\\\u001B[39;00m\u001B[38;5;124mAkros\u001B[39m\u001B[38;5;130;01m\\\\\u001B[39;00m\u001B[38;5;124mjoseacevedogomez\u001B[39m\u001B[38;5;130;01m\\\\\u001B[39;00m\u001B[38;5;124mNotas 2024 media y clei\u001B[39m\u001B[38;5;130;01m\\\\\u001B[39;00m\u001B[38;5;124mEC-F04_CONSOLIDADO_10A.xlsx\u001B[39m\u001B[38;5;124m\"\u001B[39m)\n\u001B[0;32m      5\u001B[0m \u001B[38;5;66;03m# Extract tables from the PDF\u001B[39;00m\n\u001B[1;32m----> 6\u001B[0m dfs \u001B[38;5;241m=\u001B[39m \u001B[43mtabula\u001B[49m\u001B[38;5;241;43m.\u001B[39;49m\u001B[43mread_pdf\u001B[49m(\u001B[38;5;124m\"\u001B[39m\u001B[38;5;124mD:\u001B[39m\u001B[38;5;130;01m\\\\\u001B[39;00m\u001B[38;5;124mProjects\u001B[39m\u001B[38;5;130;01m\\\\\u001B[39;00m\u001B[38;5;124mAkros\u001B[39m\u001B[38;5;130;01m\\\\\u001B[39;00m\u001B[38;5;124mjoseacevedogomez\u001B[39m\u001B[38;5;130;01m\\\\\u001B[39;00m\u001B[38;5;124mtecnicas\u001B[39m\u001B[38;5;130;01m\\\\\u001B[39;00m\u001B[38;5;124mCONSOLIDADO DE NOTAS 2024.pdf\u001B[39m\u001B[38;5;124m\"\u001B[39m, pages\u001B[38;5;241m=\u001B[39m\u001B[38;5;124m'\u001B[39m\u001B[38;5;124mall\u001B[39m\u001B[38;5;124m'\u001B[39m)\n\u001B[0;32m      7\u001B[0m df \u001B[38;5;241m=\u001B[39m pd\u001B[38;5;241m.\u001B[39mconcat(dfs)\n\u001B[0;32m      8\u001B[0m df\n",
      "\u001B[1;31mAttributeError\u001B[0m: module 'tabula' has no attribute 'read_pdf'"
     ]
    }
   ],
   "source": [
    "import pandas as pd\n",
    "import tabula\n",
    "\n",
    "initial_df = pd.read_excel(\"D:\\\\Projects\\\\Akros\\\\joseacevedogomez\\\\Notas 2024 media y clei\\\\EC-F04_CONSOLIDADO_10A.xlsx\")\n",
    "# Extract tables from the PDF\n",
    "dfs = tabula.read_pdf(\"D:\\\\Projects\\\\Akros\\\\joseacevedogomez\\\\tecnicas\\\\CONSOLIDADO DE NOTAS 2024.pdf\", pages='all')\n",
    "df = pd.concat(dfs)\n",
    "df"
   ],
   "metadata": {
    "collapsed": false,
    "ExecuteTime": {
     "end_time": "2025-02-04T14:30:30.277786300Z",
     "start_time": "2025-02-04T14:30:30.232770200Z"
    }
   },
   "id": "4138a6acd41438d2",
   "execution_count": 11
  },
  {
   "cell_type": "markdown",
   "source": [],
   "metadata": {
    "collapsed": false
   },
   "id": "200ec6de35e6e3dd"
  },
  {
   "cell_type": "code",
   "outputs": [],
   "source": [
    "def process_workbook(route, quarter):\n",
    "    df = pd.read_excel(route, sheet_name=quarter ) \n",
    "    \n",
    "    df.columns = df.iloc[8].tolist()\n",
    "    df = df.iloc[9:,2:]\n",
    "    df = df.loc[:, 'APELLIDOS Y NOMBRES':'Total pérdidas'].iloc[:, :-1]\n",
    "    df = df.set_index('APELLIDOS Y NOMBRES')\n",
    "\n",
    "    df = df.infer_objects()\n",
    "    replacement_dict = {\n",
    "        'DBAJO': 'BJ',\n",
    "        'DB': 'B',\n",
    "        'DA': 'A',\n",
    "        'DS': 'S'\n",
    "        \n",
    "    }\n",
    "    df.replace(replacement_dict, inplace=True)\n",
    "    \n",
    "    # Replace all other values with None\n",
    "    for column in df.columns:\n",
    "        df[column] = df[column].map(lambda x: None if x not in replacement_dict.values() else x)\n",
    "    \n",
    "    df.dropna(axis=1, how='all', inplace=True)\n",
    "    df.dropna(axis=0, how='all', inplace=True)\n",
    "    \n",
    "    \n",
    "    return df\n",
    "\n",
    "def extract_data(route, quarter):\n",
    "    df = pd.read_excel(route, sheet_name=quarter ) \n",
    "    \n",
    "    data = {\n",
    "        'Grado':None,\n",
    "        'Grupo':None,\n",
    "        'Periodo': None\n",
    "    }\n",
    "    grado_grupo = df.iloc[4,1]\n",
    "    \n",
    "    if len(grado_grupo.split(': ')) > 1:\n",
    "        grado_grupo = grado_grupo.split(': ')[1]\n",
    "    \n",
    "    if len(df.iloc[5,1].split(': ')) > 1:\n",
    "        data['Periodo'] = df.iloc[5,1].split(': ')[1].strip()\n",
    "    else:\n",
    "        data['Periodo'] = df.iloc[5,1]\n",
    "    if len(grado_grupo.split()) > 1:\n",
    "        data['Grado'] = grado_grupo.split()[0]\n",
    "        data['Grupo'] = grado_grupo.split()[1]\n",
    "    else:\n",
    "        data['Grado'] = grado_grupo.strip()\n",
    "    return  data\n",
    "\n"
   ],
   "metadata": {
    "collapsed": false,
    "ExecuteTime": {
     "end_time": "2025-01-27T14:20:01.515269500Z",
     "start_time": "2025-01-27T14:20:01.508559400Z"
    }
   },
   "id": "c854cf25aec9b090",
   "execution_count": 9
  },
  {
   "cell_type": "code",
   "outputs": [],
   "source": [
    "import unicodedata\n",
    "import re\n",
    "\n",
    "\n",
    "def remove_tildes(text):\n",
    "    \"\"\"Removes the accents of each vowel in a text\n",
    "    \n",
    "    :param str text: the text with vowels with accents \n",
    "    :return str: the text without the accents \n",
    "    \"\"\"\n",
    "    # Normalize and remove accents\n",
    "    text = ''.join(\n",
    "        char for char in unicodedata.normalize('NFD', text)\n",
    "        if unicodedata.category(char) != 'Mn'\n",
    "    )\n",
    "    return text.strip()\n",
    "\n",
    "def clean_name(name):\n",
    "    \"\"\"Cleans a name by removing numbers and accents.\n",
    "    \n",
    "    :param str name: The name to be cleaned.\n",
    "    :return str: The cleaned name.\n",
    "    \"\"\"\n",
    "    # Remove numbers using regex\n",
    "    name = re.sub(r'\\d+', '', name)\n",
    "    \n",
    "    # Remove tildes (accents) from vowels\n",
    "    name = remove_tildes(name)\n",
    "    \n",
    "    # Return the cleaned name\n",
    "    return name.strip()\n",
    "\n",
    "def clean_column_name(column):\n",
    "    \"\"\"Cleans the column name by:\n",
    "    - Replacing spaces with underscores.\n",
    "    - Removing accents from vowels.\n",
    "    \n",
    "    :param str column: The original column name.\n",
    "        \n",
    "    :return str: The cleaned column name.\n",
    "    \"\"\"\n",
    "    # Replace spaces with underscores\n",
    "    column = column.replace(\" \", \"_\")\n",
    "    \n",
    "    # Normalize and remove accents\n",
    "    column = remove_tildes(column)\n",
    "    \n",
    "    # Convert to lowercase and strip any extra whitespace\n",
    "    return column.strip().lower()"
   ],
   "metadata": {
    "collapsed": false,
    "ExecuteTime": {
     "end_time": "2025-01-27T14:19:22.733602500Z",
     "start_time": "2025-01-27T14:19:22.730537900Z"
    }
   },
   "id": "fbad13d8f1cac6f3",
   "execution_count": 4
  },
  {
   "cell_type": "code",
   "outputs": [
    {
     "ename": "KeyError",
     "evalue": "'APELLIDOS Y NOMBRES'",
     "output_type": "error",
     "traceback": [
      "\u001B[1;31m---------------------------------------------------------------------------\u001B[0m",
      "\u001B[1;31mKeyError\u001B[0m                                  Traceback (most recent call last)",
      "File \u001B[1;32mD:\\Projects\\SqlMigrationJoseAcevedoGomez\\.venv\\Lib\\site-packages\\pandas\\core\\indexes\\base.py:3805\u001B[0m, in \u001B[0;36mIndex.get_loc\u001B[1;34m(self, key)\u001B[0m\n\u001B[0;32m   3804\u001B[0m \u001B[38;5;28;01mtry\u001B[39;00m:\n\u001B[1;32m-> 3805\u001B[0m     \u001B[38;5;28;01mreturn\u001B[39;00m \u001B[38;5;28;43mself\u001B[39;49m\u001B[38;5;241;43m.\u001B[39;49m\u001B[43m_engine\u001B[49m\u001B[38;5;241;43m.\u001B[39;49m\u001B[43mget_loc\u001B[49m\u001B[43m(\u001B[49m\u001B[43mcasted_key\u001B[49m\u001B[43m)\u001B[49m\n\u001B[0;32m   3806\u001B[0m \u001B[38;5;28;01mexcept\u001B[39;00m \u001B[38;5;167;01mKeyError\u001B[39;00m \u001B[38;5;28;01mas\u001B[39;00m err:\n",
      "File \u001B[1;32mindex.pyx:167\u001B[0m, in \u001B[0;36mpandas._libs.index.IndexEngine.get_loc\u001B[1;34m()\u001B[0m\n",
      "File \u001B[1;32mindex.pyx:191\u001B[0m, in \u001B[0;36mpandas._libs.index.IndexEngine.get_loc\u001B[1;34m()\u001B[0m\n",
      "File \u001B[1;32mindex.pyx:234\u001B[0m, in \u001B[0;36mpandas._libs.index.IndexEngine._get_loc_duplicates\u001B[1;34m()\u001B[0m\n",
      "File \u001B[1;32mindex.pyx:242\u001B[0m, in \u001B[0;36mpandas._libs.index.IndexEngine._maybe_get_bool_indexer\u001B[1;34m()\u001B[0m\n",
      "File \u001B[1;32mindex.pyx:134\u001B[0m, in \u001B[0;36mpandas._libs.index._unpack_bool_indexer\u001B[1;34m()\u001B[0m\n",
      "\u001B[1;31mKeyError\u001B[0m: 'APELLIDOS Y NOMBRES'",
      "\nThe above exception was the direct cause of the following exception:\n",
      "\u001B[1;31mKeyError\u001B[0m                                  Traceback (most recent call last)",
      "Cell \u001B[1;32mIn[8], line 23\u001B[0m\n\u001B[0;32m     20\u001B[0m             output\u001B[38;5;241m.\u001B[39mappend((estudiante, materia, nota, grado, grupo))\n\u001B[0;32m     21\u001B[0m     \u001B[38;5;28;01mreturn\u001B[39;00m output\n\u001B[1;32m---> 23\u001B[0m \u001B[43mprocess_df\u001B[49m\u001B[43m(\u001B[49m\u001B[43mexample_route\u001B[49m\u001B[43m)\u001B[49m\n",
      "Cell \u001B[1;32mIn[8], line 5\u001B[0m, in \u001B[0;36mprocess_df\u001B[1;34m(route)\u001B[0m\n\u001B[0;32m      3\u001B[0m \u001B[38;5;28;01mdef\u001B[39;00m\u001B[38;5;250m \u001B[39m\u001B[38;5;21mprocess_df\u001B[39m(route):\n\u001B[0;32m      4\u001B[0m     output \u001B[38;5;241m=\u001B[39m []\n\u001B[1;32m----> 5\u001B[0m     df \u001B[38;5;241m=\u001B[39m \u001B[43mprocess_workbook\u001B[49m\u001B[43m(\u001B[49m\u001B[43mroute\u001B[49m\u001B[43m,\u001B[49m\u001B[43m \u001B[49m\u001B[38;5;241;43m2\u001B[39;49m\u001B[43m)\u001B[49m\n\u001B[0;32m      6\u001B[0m     data \u001B[38;5;241m=\u001B[39m extract_data(route, \u001B[38;5;241m2\u001B[39m)   \n\u001B[0;32m      7\u001B[0m     \u001B[38;5;28;01mfor\u001B[39;00m index, row \u001B[38;5;129;01min\u001B[39;00m df\u001B[38;5;241m.\u001B[39miterrows():\n",
      "Cell \u001B[1;32mIn[7], line 6\u001B[0m, in \u001B[0;36mprocess_workbook\u001B[1;34m(route, quarter)\u001B[0m\n\u001B[0;32m      4\u001B[0m df\u001B[38;5;241m.\u001B[39mcolumns \u001B[38;5;241m=\u001B[39m df\u001B[38;5;241m.\u001B[39miloc[\u001B[38;5;241m8\u001B[39m]\u001B[38;5;241m.\u001B[39mtolist()\n\u001B[0;32m      5\u001B[0m df \u001B[38;5;241m=\u001B[39m df\u001B[38;5;241m.\u001B[39miloc[\u001B[38;5;241m8\u001B[39m:,\u001B[38;5;241m2\u001B[39m:]\n\u001B[1;32m----> 6\u001B[0m df \u001B[38;5;241m=\u001B[39m \u001B[43mdf\u001B[49m\u001B[38;5;241;43m.\u001B[39;49m\u001B[43mloc\u001B[49m\u001B[43m[\u001B[49m\u001B[43m:\u001B[49m\u001B[43m,\u001B[49m\u001B[43m \u001B[49m\u001B[38;5;124;43m'\u001B[39;49m\u001B[38;5;124;43mAPELLIDOS Y NOMBRES\u001B[39;49m\u001B[38;5;124;43m'\u001B[39;49m\u001B[43m:\u001B[49m\u001B[38;5;124;43m'\u001B[39;49m\u001B[38;5;124;43mTotal pérdidas\u001B[39;49m\u001B[38;5;124;43m'\u001B[39;49m\u001B[43m]\u001B[49m\u001B[38;5;241m.\u001B[39miloc[:, :\u001B[38;5;241m-\u001B[39m\u001B[38;5;241m1\u001B[39m]\n\u001B[0;32m      7\u001B[0m df \u001B[38;5;241m=\u001B[39m df\u001B[38;5;241m.\u001B[39mset_index(\u001B[38;5;124m'\u001B[39m\u001B[38;5;124mAPELLIDOS Y NOMBRES\u001B[39m\u001B[38;5;124m'\u001B[39m)\n\u001B[0;32m      9\u001B[0m df \u001B[38;5;241m=\u001B[39m df\u001B[38;5;241m.\u001B[39minfer_objects()\n",
      "File \u001B[1;32mD:\\Projects\\SqlMigrationJoseAcevedoGomez\\.venv\\Lib\\site-packages\\pandas\\core\\indexing.py:1184\u001B[0m, in \u001B[0;36m_LocationIndexer.__getitem__\u001B[1;34m(self, key)\u001B[0m\n\u001B[0;32m   1182\u001B[0m     \u001B[38;5;28;01mif\u001B[39;00m \u001B[38;5;28mself\u001B[39m\u001B[38;5;241m.\u001B[39m_is_scalar_access(key):\n\u001B[0;32m   1183\u001B[0m         \u001B[38;5;28;01mreturn\u001B[39;00m \u001B[38;5;28mself\u001B[39m\u001B[38;5;241m.\u001B[39mobj\u001B[38;5;241m.\u001B[39m_get_value(\u001B[38;5;241m*\u001B[39mkey, takeable\u001B[38;5;241m=\u001B[39m\u001B[38;5;28mself\u001B[39m\u001B[38;5;241m.\u001B[39m_takeable)\n\u001B[1;32m-> 1184\u001B[0m     \u001B[38;5;28;01mreturn\u001B[39;00m \u001B[38;5;28;43mself\u001B[39;49m\u001B[38;5;241;43m.\u001B[39;49m\u001B[43m_getitem_tuple\u001B[49m\u001B[43m(\u001B[49m\u001B[43mkey\u001B[49m\u001B[43m)\u001B[49m\n\u001B[0;32m   1185\u001B[0m \u001B[38;5;28;01melse\u001B[39;00m:\n\u001B[0;32m   1186\u001B[0m     \u001B[38;5;66;03m# we by definition only have the 0th axis\u001B[39;00m\n\u001B[0;32m   1187\u001B[0m     axis \u001B[38;5;241m=\u001B[39m \u001B[38;5;28mself\u001B[39m\u001B[38;5;241m.\u001B[39maxis \u001B[38;5;129;01mor\u001B[39;00m \u001B[38;5;241m0\u001B[39m\n",
      "File \u001B[1;32mD:\\Projects\\SqlMigrationJoseAcevedoGomez\\.venv\\Lib\\site-packages\\pandas\\core\\indexing.py:1377\u001B[0m, in \u001B[0;36m_LocIndexer._getitem_tuple\u001B[1;34m(self, tup)\u001B[0m\n\u001B[0;32m   1374\u001B[0m \u001B[38;5;28;01mif\u001B[39;00m \u001B[38;5;28mself\u001B[39m\u001B[38;5;241m.\u001B[39m_multi_take_opportunity(tup):\n\u001B[0;32m   1375\u001B[0m     \u001B[38;5;28;01mreturn\u001B[39;00m \u001B[38;5;28mself\u001B[39m\u001B[38;5;241m.\u001B[39m_multi_take(tup)\n\u001B[1;32m-> 1377\u001B[0m \u001B[38;5;28;01mreturn\u001B[39;00m \u001B[38;5;28;43mself\u001B[39;49m\u001B[38;5;241;43m.\u001B[39;49m\u001B[43m_getitem_tuple_same_dim\u001B[49m\u001B[43m(\u001B[49m\u001B[43mtup\u001B[49m\u001B[43m)\u001B[49m\n",
      "File \u001B[1;32mD:\\Projects\\SqlMigrationJoseAcevedoGomez\\.venv\\Lib\\site-packages\\pandas\\core\\indexing.py:1020\u001B[0m, in \u001B[0;36m_LocationIndexer._getitem_tuple_same_dim\u001B[1;34m(self, tup)\u001B[0m\n\u001B[0;32m   1017\u001B[0m \u001B[38;5;28;01mif\u001B[39;00m com\u001B[38;5;241m.\u001B[39mis_null_slice(key):\n\u001B[0;32m   1018\u001B[0m     \u001B[38;5;28;01mcontinue\u001B[39;00m\n\u001B[1;32m-> 1020\u001B[0m retval \u001B[38;5;241m=\u001B[39m \u001B[38;5;28;43mgetattr\u001B[39;49m\u001B[43m(\u001B[49m\u001B[43mretval\u001B[49m\u001B[43m,\u001B[49m\u001B[43m \u001B[49m\u001B[38;5;28;43mself\u001B[39;49m\u001B[38;5;241;43m.\u001B[39;49m\u001B[43mname\u001B[49m\u001B[43m)\u001B[49m\u001B[38;5;241;43m.\u001B[39;49m\u001B[43m_getitem_axis\u001B[49m\u001B[43m(\u001B[49m\u001B[43mkey\u001B[49m\u001B[43m,\u001B[49m\u001B[43m \u001B[49m\u001B[43maxis\u001B[49m\u001B[38;5;241;43m=\u001B[39;49m\u001B[43mi\u001B[49m\u001B[43m)\u001B[49m\n\u001B[0;32m   1021\u001B[0m \u001B[38;5;66;03m# We should never have retval.ndim < self.ndim, as that should\u001B[39;00m\n\u001B[0;32m   1022\u001B[0m \u001B[38;5;66;03m#  be handled by the _getitem_lowerdim call above.\u001B[39;00m\n\u001B[0;32m   1023\u001B[0m \u001B[38;5;28;01massert\u001B[39;00m retval\u001B[38;5;241m.\u001B[39mndim \u001B[38;5;241m==\u001B[39m \u001B[38;5;28mself\u001B[39m\u001B[38;5;241m.\u001B[39mndim\n",
      "File \u001B[1;32mD:\\Projects\\SqlMigrationJoseAcevedoGomez\\.venv\\Lib\\site-packages\\pandas\\core\\indexing.py:1411\u001B[0m, in \u001B[0;36m_LocIndexer._getitem_axis\u001B[1;34m(self, key, axis)\u001B[0m\n\u001B[0;32m   1409\u001B[0m \u001B[38;5;28;01mif\u001B[39;00m \u001B[38;5;28misinstance\u001B[39m(key, \u001B[38;5;28mslice\u001B[39m):\n\u001B[0;32m   1410\u001B[0m     \u001B[38;5;28mself\u001B[39m\u001B[38;5;241m.\u001B[39m_validate_key(key, axis)\n\u001B[1;32m-> 1411\u001B[0m     \u001B[38;5;28;01mreturn\u001B[39;00m \u001B[38;5;28;43mself\u001B[39;49m\u001B[38;5;241;43m.\u001B[39;49m\u001B[43m_get_slice_axis\u001B[49m\u001B[43m(\u001B[49m\u001B[43mkey\u001B[49m\u001B[43m,\u001B[49m\u001B[43m \u001B[49m\u001B[43maxis\u001B[49m\u001B[38;5;241;43m=\u001B[39;49m\u001B[43maxis\u001B[49m\u001B[43m)\u001B[49m\n\u001B[0;32m   1412\u001B[0m \u001B[38;5;28;01melif\u001B[39;00m com\u001B[38;5;241m.\u001B[39mis_bool_indexer(key):\n\u001B[0;32m   1413\u001B[0m     \u001B[38;5;28;01mreturn\u001B[39;00m \u001B[38;5;28mself\u001B[39m\u001B[38;5;241m.\u001B[39m_getbool_axis(key, axis\u001B[38;5;241m=\u001B[39maxis)\n",
      "File \u001B[1;32mD:\\Projects\\SqlMigrationJoseAcevedoGomez\\.venv\\Lib\\site-packages\\pandas\\core\\indexing.py:1443\u001B[0m, in \u001B[0;36m_LocIndexer._get_slice_axis\u001B[1;34m(self, slice_obj, axis)\u001B[0m\n\u001B[0;32m   1440\u001B[0m     \u001B[38;5;28;01mreturn\u001B[39;00m obj\u001B[38;5;241m.\u001B[39mcopy(deep\u001B[38;5;241m=\u001B[39m\u001B[38;5;28;01mFalse\u001B[39;00m)\n\u001B[0;32m   1442\u001B[0m labels \u001B[38;5;241m=\u001B[39m obj\u001B[38;5;241m.\u001B[39m_get_axis(axis)\n\u001B[1;32m-> 1443\u001B[0m indexer \u001B[38;5;241m=\u001B[39m \u001B[43mlabels\u001B[49m\u001B[38;5;241;43m.\u001B[39;49m\u001B[43mslice_indexer\u001B[49m\u001B[43m(\u001B[49m\u001B[43mslice_obj\u001B[49m\u001B[38;5;241;43m.\u001B[39;49m\u001B[43mstart\u001B[49m\u001B[43m,\u001B[49m\u001B[43m \u001B[49m\u001B[43mslice_obj\u001B[49m\u001B[38;5;241;43m.\u001B[39;49m\u001B[43mstop\u001B[49m\u001B[43m,\u001B[49m\u001B[43m \u001B[49m\u001B[43mslice_obj\u001B[49m\u001B[38;5;241;43m.\u001B[39;49m\u001B[43mstep\u001B[49m\u001B[43m)\u001B[49m\n\u001B[0;32m   1445\u001B[0m \u001B[38;5;28;01mif\u001B[39;00m \u001B[38;5;28misinstance\u001B[39m(indexer, \u001B[38;5;28mslice\u001B[39m):\n\u001B[0;32m   1446\u001B[0m     \u001B[38;5;28;01mreturn\u001B[39;00m \u001B[38;5;28mself\u001B[39m\u001B[38;5;241m.\u001B[39mobj\u001B[38;5;241m.\u001B[39m_slice(indexer, axis\u001B[38;5;241m=\u001B[39maxis)\n",
      "File \u001B[1;32mD:\\Projects\\SqlMigrationJoseAcevedoGomez\\.venv\\Lib\\site-packages\\pandas\\core\\indexes\\base.py:6662\u001B[0m, in \u001B[0;36mIndex.slice_indexer\u001B[1;34m(self, start, end, step)\u001B[0m\n\u001B[0;32m   6618\u001B[0m \u001B[38;5;28;01mdef\u001B[39;00m\u001B[38;5;250m \u001B[39m\u001B[38;5;21mslice_indexer\u001B[39m(\n\u001B[0;32m   6619\u001B[0m     \u001B[38;5;28mself\u001B[39m,\n\u001B[0;32m   6620\u001B[0m     start: Hashable \u001B[38;5;241m|\u001B[39m \u001B[38;5;28;01mNone\u001B[39;00m \u001B[38;5;241m=\u001B[39m \u001B[38;5;28;01mNone\u001B[39;00m,\n\u001B[0;32m   6621\u001B[0m     end: Hashable \u001B[38;5;241m|\u001B[39m \u001B[38;5;28;01mNone\u001B[39;00m \u001B[38;5;241m=\u001B[39m \u001B[38;5;28;01mNone\u001B[39;00m,\n\u001B[0;32m   6622\u001B[0m     step: \u001B[38;5;28mint\u001B[39m \u001B[38;5;241m|\u001B[39m \u001B[38;5;28;01mNone\u001B[39;00m \u001B[38;5;241m=\u001B[39m \u001B[38;5;28;01mNone\u001B[39;00m,\n\u001B[0;32m   6623\u001B[0m ) \u001B[38;5;241m-\u001B[39m\u001B[38;5;241m>\u001B[39m \u001B[38;5;28mslice\u001B[39m:\n\u001B[0;32m   6624\u001B[0m \u001B[38;5;250m    \u001B[39m\u001B[38;5;124;03m\"\"\"\u001B[39;00m\n\u001B[0;32m   6625\u001B[0m \u001B[38;5;124;03m    Compute the slice indexer for input labels and step.\u001B[39;00m\n\u001B[0;32m   6626\u001B[0m \n\u001B[1;32m   (...)\u001B[0m\n\u001B[0;32m   6660\u001B[0m \u001B[38;5;124;03m    slice(1, 3, None)\u001B[39;00m\n\u001B[0;32m   6661\u001B[0m \u001B[38;5;124;03m    \"\"\"\u001B[39;00m\n\u001B[1;32m-> 6662\u001B[0m     start_slice, end_slice \u001B[38;5;241m=\u001B[39m \u001B[38;5;28;43mself\u001B[39;49m\u001B[38;5;241;43m.\u001B[39;49m\u001B[43mslice_locs\u001B[49m\u001B[43m(\u001B[49m\u001B[43mstart\u001B[49m\u001B[43m,\u001B[49m\u001B[43m \u001B[49m\u001B[43mend\u001B[49m\u001B[43m,\u001B[49m\u001B[43m \u001B[49m\u001B[43mstep\u001B[49m\u001B[38;5;241;43m=\u001B[39;49m\u001B[43mstep\u001B[49m\u001B[43m)\u001B[49m\n\u001B[0;32m   6664\u001B[0m     \u001B[38;5;66;03m# return a slice\u001B[39;00m\n\u001B[0;32m   6665\u001B[0m     \u001B[38;5;28;01mif\u001B[39;00m \u001B[38;5;129;01mnot\u001B[39;00m is_scalar(start_slice):\n",
      "File \u001B[1;32mD:\\Projects\\SqlMigrationJoseAcevedoGomez\\.venv\\Lib\\site-packages\\pandas\\core\\indexes\\base.py:6879\u001B[0m, in \u001B[0;36mIndex.slice_locs\u001B[1;34m(self, start, end, step)\u001B[0m\n\u001B[0;32m   6877\u001B[0m start_slice \u001B[38;5;241m=\u001B[39m \u001B[38;5;28;01mNone\u001B[39;00m\n\u001B[0;32m   6878\u001B[0m \u001B[38;5;28;01mif\u001B[39;00m start \u001B[38;5;129;01mis\u001B[39;00m \u001B[38;5;129;01mnot\u001B[39;00m \u001B[38;5;28;01mNone\u001B[39;00m:\n\u001B[1;32m-> 6879\u001B[0m     start_slice \u001B[38;5;241m=\u001B[39m \u001B[38;5;28;43mself\u001B[39;49m\u001B[38;5;241;43m.\u001B[39;49m\u001B[43mget_slice_bound\u001B[49m\u001B[43m(\u001B[49m\u001B[43mstart\u001B[49m\u001B[43m,\u001B[49m\u001B[43m \u001B[49m\u001B[38;5;124;43m\"\u001B[39;49m\u001B[38;5;124;43mleft\u001B[39;49m\u001B[38;5;124;43m\"\u001B[39;49m\u001B[43m)\u001B[49m\n\u001B[0;32m   6880\u001B[0m \u001B[38;5;28;01mif\u001B[39;00m start_slice \u001B[38;5;129;01mis\u001B[39;00m \u001B[38;5;28;01mNone\u001B[39;00m:\n\u001B[0;32m   6881\u001B[0m     start_slice \u001B[38;5;241m=\u001B[39m \u001B[38;5;241m0\u001B[39m\n",
      "File \u001B[1;32mD:\\Projects\\SqlMigrationJoseAcevedoGomez\\.venv\\Lib\\site-packages\\pandas\\core\\indexes\\base.py:6804\u001B[0m, in \u001B[0;36mIndex.get_slice_bound\u001B[1;34m(self, label, side)\u001B[0m\n\u001B[0;32m   6801\u001B[0m         \u001B[38;5;28;01mreturn\u001B[39;00m \u001B[38;5;28mself\u001B[39m\u001B[38;5;241m.\u001B[39m_searchsorted_monotonic(label, side)\n\u001B[0;32m   6802\u001B[0m     \u001B[38;5;28;01mexcept\u001B[39;00m \u001B[38;5;167;01mValueError\u001B[39;00m:\n\u001B[0;32m   6803\u001B[0m         \u001B[38;5;66;03m# raise the original KeyError\u001B[39;00m\n\u001B[1;32m-> 6804\u001B[0m         \u001B[38;5;28;01mraise\u001B[39;00m err\n\u001B[0;32m   6806\u001B[0m \u001B[38;5;28;01mif\u001B[39;00m \u001B[38;5;28misinstance\u001B[39m(slc, np\u001B[38;5;241m.\u001B[39mndarray):\n\u001B[0;32m   6807\u001B[0m     \u001B[38;5;66;03m# get_loc may return a boolean array, which\u001B[39;00m\n\u001B[0;32m   6808\u001B[0m     \u001B[38;5;66;03m# is OK as long as they are representable by a slice.\u001B[39;00m\n\u001B[0;32m   6809\u001B[0m     \u001B[38;5;28;01massert\u001B[39;00m is_bool_dtype(slc\u001B[38;5;241m.\u001B[39mdtype)\n",
      "File \u001B[1;32mD:\\Projects\\SqlMigrationJoseAcevedoGomez\\.venv\\Lib\\site-packages\\pandas\\core\\indexes\\base.py:6798\u001B[0m, in \u001B[0;36mIndex.get_slice_bound\u001B[1;34m(self, label, side)\u001B[0m\n\u001B[0;32m   6796\u001B[0m \u001B[38;5;66;03m# we need to look up the label\u001B[39;00m\n\u001B[0;32m   6797\u001B[0m \u001B[38;5;28;01mtry\u001B[39;00m:\n\u001B[1;32m-> 6798\u001B[0m     slc \u001B[38;5;241m=\u001B[39m \u001B[38;5;28;43mself\u001B[39;49m\u001B[38;5;241;43m.\u001B[39;49m\u001B[43mget_loc\u001B[49m\u001B[43m(\u001B[49m\u001B[43mlabel\u001B[49m\u001B[43m)\u001B[49m\n\u001B[0;32m   6799\u001B[0m \u001B[38;5;28;01mexcept\u001B[39;00m \u001B[38;5;167;01mKeyError\u001B[39;00m \u001B[38;5;28;01mas\u001B[39;00m err:\n\u001B[0;32m   6800\u001B[0m     \u001B[38;5;28;01mtry\u001B[39;00m:\n",
      "File \u001B[1;32mD:\\Projects\\SqlMigrationJoseAcevedoGomez\\.venv\\Lib\\site-packages\\pandas\\core\\indexes\\base.py:3812\u001B[0m, in \u001B[0;36mIndex.get_loc\u001B[1;34m(self, key)\u001B[0m\n\u001B[0;32m   3807\u001B[0m     \u001B[38;5;28;01mif\u001B[39;00m \u001B[38;5;28misinstance\u001B[39m(casted_key, \u001B[38;5;28mslice\u001B[39m) \u001B[38;5;129;01mor\u001B[39;00m (\n\u001B[0;32m   3808\u001B[0m         \u001B[38;5;28misinstance\u001B[39m(casted_key, abc\u001B[38;5;241m.\u001B[39mIterable)\n\u001B[0;32m   3809\u001B[0m         \u001B[38;5;129;01mand\u001B[39;00m \u001B[38;5;28many\u001B[39m(\u001B[38;5;28misinstance\u001B[39m(x, \u001B[38;5;28mslice\u001B[39m) \u001B[38;5;28;01mfor\u001B[39;00m x \u001B[38;5;129;01min\u001B[39;00m casted_key)\n\u001B[0;32m   3810\u001B[0m     ):\n\u001B[0;32m   3811\u001B[0m         \u001B[38;5;28;01mraise\u001B[39;00m InvalidIndexError(key)\n\u001B[1;32m-> 3812\u001B[0m     \u001B[38;5;28;01mraise\u001B[39;00m \u001B[38;5;167;01mKeyError\u001B[39;00m(key) \u001B[38;5;28;01mfrom\u001B[39;00m\u001B[38;5;250m \u001B[39m\u001B[38;5;21;01merr\u001B[39;00m\n\u001B[0;32m   3813\u001B[0m \u001B[38;5;28;01mexcept\u001B[39;00m \u001B[38;5;167;01mTypeError\u001B[39;00m:\n\u001B[0;32m   3814\u001B[0m     \u001B[38;5;66;03m# If we have a listlike key, _check_indexing_error will raise\u001B[39;00m\n\u001B[0;32m   3815\u001B[0m     \u001B[38;5;66;03m#  InvalidIndexError. Otherwise we fall through and re-raise\u001B[39;00m\n\u001B[0;32m   3816\u001B[0m     \u001B[38;5;66;03m#  the TypeError.\u001B[39;00m\n\u001B[0;32m   3817\u001B[0m     \u001B[38;5;28mself\u001B[39m\u001B[38;5;241m.\u001B[39m_check_indexing_error(key)\n",
      "\u001B[1;31mKeyError\u001B[0m: 'APELLIDOS Y NOMBRES'"
     ]
    }
   ],
   "source": [
    "example_route = (\"D:\\\\Projects\\\\Akros\\\\joseacevedogomez\\\\Notas 2024 media y clei\\\\EC-F04_CONSOLIDADO_10A.xlsx\")\n",
    "\n",
    "def process_df(route):\n",
    "    output = []\n",
    "    df = process_workbook(route, 2)\n",
    "    data = extract_data(route, 2)   \n",
    "    for index, row in df.iterrows():\n",
    "        for column in df.columns:\n",
    "            \n",
    "            estudiante = clean_name(index)\n",
    "            \n",
    "            materia = clean_column_name(column)\n",
    "            \n",
    "            nota = row[column]\n",
    "            \n",
    "            grado = clean_column_name(data['Grado'])\n",
    "            \n",
    "            grupo = data['Grupo']\n",
    "            \n",
    "            output.append((estudiante, materia, nota, grado, grupo))\n",
    "    return output\n",
    "            \n",
    "process_df(example_route)"
   ],
   "metadata": {
    "collapsed": false,
    "ExecuteTime": {
     "end_time": "2025-01-27T14:19:56.936229100Z",
     "start_time": "2025-01-27T14:19:56.816567300Z"
    }
   },
   "id": "c83864f805e1a46a",
   "execution_count": 8
  },
  {
   "cell_type": "code",
   "outputs": [
    {
     "name": "stdout",
     "output_type": "stream",
     "text": [
      "\n",
      "Processing file: D:\\Projects\\Akros\\joseacevedogomez\\Notas 2024\\EC-F04_CONSOLIDADO_1A_COLINA.xlsx\n",
      "280\n",
      "\n",
      "Processing file: D:\\Projects\\Akros\\joseacevedogomez\\Notas 2024\\EC-F04_CONSOLIDADO_1A_COSTA_RICA.xlsx\n",
      "270\n",
      "\n",
      "Processing file: D:\\Projects\\Akros\\joseacevedogomez\\Notas 2024\\EC-F04_CONSOLIDADO_1B_COSTA_RICA.xlsx\n"
     ]
    },
    {
     "ename": "AttributeError",
     "evalue": "'float' object has no attribute 'split'",
     "output_type": "error",
     "traceback": [
      "\u001B[1;31m---------------------------------------------------------------------------\u001B[0m",
      "\u001B[1;31mAttributeError\u001B[0m                            Traceback (most recent call last)",
      "Cell \u001B[1;32mIn[32], line 21\u001B[0m\n\u001B[0;32m     18\u001B[0m             \u001B[38;5;66;03m# El periodo 3 contiene las notas definitivas\u001B[39;00m\n\u001B[0;32m     19\u001B[0m             \u001B[38;5;28mprint\u001B[39m(\u001B[38;5;28mlen\u001B[39m(process_df(file_path)))\n\u001B[1;32m---> 21\u001B[0m \u001B[43mprocess_folder\u001B[49m\u001B[43m(\u001B[49m\u001B[38;5;124;43m\"\u001B[39;49m\u001B[38;5;124;43mD:\u001B[39;49m\u001B[38;5;130;43;01m\\\\\u001B[39;49;00m\u001B[38;5;124;43mProjects\u001B[39;49m\u001B[38;5;130;43;01m\\\\\u001B[39;49;00m\u001B[38;5;124;43mAkros\u001B[39;49m\u001B[38;5;130;43;01m\\\\\u001B[39;49;00m\u001B[38;5;124;43mjoseacevedogomez\u001B[39;49m\u001B[38;5;130;43;01m\\\\\u001B[39;49;00m\u001B[38;5;124;43mNotas 2024\u001B[39;49m\u001B[38;5;124;43m\"\u001B[39;49m\u001B[43m)\u001B[49m\n",
      "Cell \u001B[1;32mIn[32], line 19\u001B[0m, in \u001B[0;36mprocess_folder\u001B[1;34m(folder_path)\u001B[0m\n\u001B[0;32m     17\u001B[0m \u001B[38;5;28mprint\u001B[39m(\u001B[38;5;124mf\u001B[39m\u001B[38;5;124m\"\u001B[39m\u001B[38;5;130;01m\\n\u001B[39;00m\u001B[38;5;124mProcessing file: \u001B[39m\u001B[38;5;132;01m{\u001B[39;00mfile_path\u001B[38;5;132;01m}\u001B[39;00m\u001B[38;5;124m\"\u001B[39m)\n\u001B[0;32m     18\u001B[0m \u001B[38;5;66;03m# El periodo 3 contiene las notas definitivas\u001B[39;00m\n\u001B[1;32m---> 19\u001B[0m \u001B[38;5;28mprint\u001B[39m(\u001B[38;5;28mlen\u001B[39m(\u001B[43mprocess_df\u001B[49m\u001B[43m(\u001B[49m\u001B[43mfile_path\u001B[49m\u001B[43m)\u001B[49m))\n",
      "Cell \u001B[1;32mIn[28], line 6\u001B[0m, in \u001B[0;36mprocess_df\u001B[1;34m(route)\u001B[0m\n\u001B[0;32m      4\u001B[0m output \u001B[38;5;241m=\u001B[39m []\n\u001B[0;32m      5\u001B[0m df \u001B[38;5;241m=\u001B[39m process_workbook(route, \u001B[38;5;241m2\u001B[39m)\n\u001B[1;32m----> 6\u001B[0m data \u001B[38;5;241m=\u001B[39m \u001B[43mextract_data\u001B[49m\u001B[43m(\u001B[49m\u001B[43mroute\u001B[49m\u001B[43m,\u001B[49m\u001B[43m \u001B[49m\u001B[38;5;241;43m2\u001B[39;49m\u001B[43m)\u001B[49m   \n\u001B[0;32m      7\u001B[0m \u001B[38;5;28;01mfor\u001B[39;00m index, row \u001B[38;5;129;01min\u001B[39;00m df\u001B[38;5;241m.\u001B[39miterrows():\n\u001B[0;32m      8\u001B[0m     \u001B[38;5;28;01mfor\u001B[39;00m column \u001B[38;5;129;01min\u001B[39;00m df\u001B[38;5;241m.\u001B[39mcolumns:\n",
      "Cell \u001B[1;32mIn[4], line 39\u001B[0m, in \u001B[0;36mextract_data\u001B[1;34m(route, quarter)\u001B[0m\n\u001B[0;32m     32\u001B[0m data \u001B[38;5;241m=\u001B[39m {\n\u001B[0;32m     33\u001B[0m     \u001B[38;5;124m'\u001B[39m\u001B[38;5;124mGrado\u001B[39m\u001B[38;5;124m'\u001B[39m:\u001B[38;5;28;01mNone\u001B[39;00m,\n\u001B[0;32m     34\u001B[0m     \u001B[38;5;124m'\u001B[39m\u001B[38;5;124mGrupo\u001B[39m\u001B[38;5;124m'\u001B[39m:\u001B[38;5;28;01mNone\u001B[39;00m,\n\u001B[0;32m     35\u001B[0m     \u001B[38;5;124m'\u001B[39m\u001B[38;5;124mPeriodo\u001B[39m\u001B[38;5;124m'\u001B[39m: \u001B[38;5;28;01mNone\u001B[39;00m\n\u001B[0;32m     36\u001B[0m }\n\u001B[0;32m     37\u001B[0m grado_grupo \u001B[38;5;241m=\u001B[39m df\u001B[38;5;241m.\u001B[39miloc[\u001B[38;5;241m4\u001B[39m,\u001B[38;5;241m1\u001B[39m]\n\u001B[1;32m---> 39\u001B[0m \u001B[38;5;28;01mif\u001B[39;00m \u001B[38;5;28mlen\u001B[39m(\u001B[43mgrado_grupo\u001B[49m\u001B[38;5;241;43m.\u001B[39;49m\u001B[43msplit\u001B[49m(\u001B[38;5;124m'\u001B[39m\u001B[38;5;124m: \u001B[39m\u001B[38;5;124m'\u001B[39m)) \u001B[38;5;241m>\u001B[39m \u001B[38;5;241m1\u001B[39m:\n\u001B[0;32m     40\u001B[0m     grado_grupo \u001B[38;5;241m=\u001B[39m grado_grupo\u001B[38;5;241m.\u001B[39msplit(\u001B[38;5;124m'\u001B[39m\u001B[38;5;124m: \u001B[39m\u001B[38;5;124m'\u001B[39m)[\u001B[38;5;241m1\u001B[39m]\n\u001B[0;32m     42\u001B[0m \u001B[38;5;28;01mif\u001B[39;00m \u001B[38;5;28mlen\u001B[39m(df\u001B[38;5;241m.\u001B[39miloc[\u001B[38;5;241m5\u001B[39m,\u001B[38;5;241m1\u001B[39m]\u001B[38;5;241m.\u001B[39msplit(\u001B[38;5;124m'\u001B[39m\u001B[38;5;124m: \u001B[39m\u001B[38;5;124m'\u001B[39m)) \u001B[38;5;241m>\u001B[39m \u001B[38;5;241m1\u001B[39m:\n",
      "\u001B[1;31mAttributeError\u001B[0m: 'float' object has no attribute 'split'"
     ]
    }
   ],
   "source": [
    "import os\n",
    "\n",
    "\n",
    "def process_folder(folder_path):\n",
    "    \"\"\"\n",
    "    Process all SQL files in a folder and save their processed data as JSON.\n",
    "    \"\"\"\n",
    "\n",
    "    if not os.path.exists(folder_path):\n",
    "        print(f\"Folder does not exist: {folder_path}\")\n",
    "        return\n",
    "\n",
    "    for file_name in os.listdir(folder_path):\n",
    "        file_path = os.path.join(folder_path, file_name)\n",
    "\n",
    "        if os.path.isfile(file_path) and file_name.lower().endswith('.xlsx'):\n",
    "            print(f\"\\nProcessing file: {file_path}\")\n",
    "            # El periodo 3 contiene las notas definitivas\n",
    "            print(len(process_df(file_path)))\n",
    "\n",
    "process_folder(\"D:\\\\Projects\\\\Akros\\\\joseacevedogomez\\\\Notas 2024\")\n",
    "            \n"
   ],
   "metadata": {
    "collapsed": false,
    "ExecuteTime": {
     "end_time": "2025-01-24T15:39:26.421527600Z",
     "start_time": "2025-01-24T15:39:26.062058200Z"
    }
   },
   "id": "f94ed2bc95a8c6f4",
   "execution_count": 32
  },
  {
   "cell_type": "code",
   "outputs": [
    {
     "data": {
      "text/plain": "                                                      QUÍ    BIO    FIS  \\\nAPELLIDOS Y NOMBRES                                                       \nAlvarez Ocampo Juan Esteban                            DS     DS     DA   \nArango Graciano Jimena                                 DA     DA     DB   \nArboleda Vahos Yulithza                                DB     DA     DB   \nBecerra Caicedo David                                  DA     DA     DB   \nCastaño Lujan Samuel Andrey                            DB     DA     DA   \nChavarria Jaramillo Juan Sebastian                     DA     DA     DB   \nChavez Perez Helen Johana                              DB     DA     DA   \nCorrea Causado Jesus David  SE RETIRO EL 27 DE ...    NaN    NaN    NaN   \nCuevas Bello Sheyra Camila Nueva 2024                  DB     DB     DA   \nGuerra Parra Dilan Arley SE RETIRÓ EL 22/10/2024      NaN    NaN    NaN   \nMarin Henao Josty                                      DB     DB     DB   \nMoreno Guisao Juan Pablo                               DB     DB     DB   \nPerez Garcia Sebastian                                 DA     DA     DA   \nQuiroz Perez Keiner Jose                               DB     DB     DB   \nRamos Segovia Alcira Maria SE RETIRO EL 08/03/24      NaN    NaN    NaN   \nRuiz Hincapié Steven Daniel PASÓ DE LA NOCHE           DS     DS     DB   \nSeguro Querubin Xilani Yelisa                       DBAJO  DBAJO  DBAJO   \nTapasco Lopez Juan Jose                                DS     DA     DA   \nTobon Gallego Juan Pablo                            DBAJO  DBAJO  DBAJO   \nUsuga Baena Melannie                                   DB     DA     DB   \nVillegas Jimenez Miguel                                DB     DA     DB   \nYepez Carrasco Yosue Alexander DESERTOR               NaN    NaN    NaN   \nZuluaga Palomino Juan Pablo TUVO PROMOCIÓN ANTI...     DB     DB     DB   \nRamirez Aguirre Juan Esteban                           DS     DS     DA   \nRamos Segovia Alcira Maria SE RETIRO EL 08/03/24      NaN    NaN    NaN   \nVelez Buitrago Juan Manuel                             DB     DB     DB   \nViloria Muñoz Adrian                                   DA     DA     DA   \nGomez Loaiza Valerie                                   DB     DB     DB   \nGallego Quiros Simon Felipe                            DA     DA     DA   \nGuerra Arenas Santiago                                 DA     DA     DA   \nLibernal Lopez Jhonfreth De Jesus                      DB     DB     DB   \nNieto Hincapié Yeferson                                DS     DS     DA   \nMartinez Carmona Moise Jesus                           DB     DB     DB   \nMenco Jimenez Juan Sebastian                           DB     DA     DB   \nBalzan Doria Sebastian Jose                         DBAJO  DBAJO     DB   \nPulgarín De Ossa Jeronimo                              DB     DA     DB   \nNaN                                                   NaN    NaN    NaN   \nNaN                                                   NaN    NaN    NaN   \n\n                                                      SOC    CEP    ART  \\\nAPELLIDOS Y NOMBRES                                                       \nAlvarez Ocampo Juan Esteban                            DS     DS     DA   \nArango Graciano Jimena                                 DS     DS     DS   \nArboleda Vahos Yulithza                                DS     DS     DA   \nBecerra Caicedo David                                  DS     DS     DS   \nCastaño Lujan Samuel Andrey                            DS     DS     DA   \nChavarria Jaramillo Juan Sebastian                     DS     DS     DA   \nChavez Perez Helen Johana                              DA     DA     DA   \nCorrea Causado Jesus David  SE RETIRO EL 27 DE ...    NaN    NaN    NaN   \nCuevas Bello Sheyra Camila Nueva 2024                  DS     DS     DA   \nGuerra Parra Dilan Arley SE RETIRÓ EL 22/10/2024      NaN    NaN    NaN   \nMarin Henao Josty                                      DA     DA     DA   \nMoreno Guisao Juan Pablo                               DB     DB     DA   \nPerez Garcia Sebastian                                 DS     DS     DS   \nQuiroz Perez Keiner Jose                               DA     DA     DA   \nRamos Segovia Alcira Maria SE RETIRO EL 08/03/24      NaN    NaN    NaN   \nRuiz Hincapié Steven Daniel PASÓ DE LA NOCHE           DA     DA     DA   \nSeguro Querubin Xilani Yelisa                       DBAJO  DBAJO  DBAJO   \nTapasco Lopez Juan Jose                                DA     DA     DA   \nTobon Gallego Juan Pablo                               DA     DA     DA   \nUsuga Baena Melannie                                   DS     DS     DA   \nVillegas Jimenez Miguel                                DS     DS     DA   \nYepez Carrasco Yosue Alexander DESERTOR               NaN    NaN    NaN   \nZuluaga Palomino Juan Pablo TUVO PROMOCIÓN ANTI...     DA     DA     DA   \nRamirez Aguirre Juan Esteban                           DA     DA     DA   \nRamos Segovia Alcira Maria SE RETIRO EL 08/03/24      NaN    NaN    NaN   \nVelez Buitrago Juan Manuel                             DS     DS     DA   \nViloria Muñoz Adrian                                   DS     DS     DA   \nGomez Loaiza Valerie                                   DA     DA     DA   \nGallego Quiros Simon Felipe                            DS     DS     DS   \nGuerra Arenas Santiago                                 DS     DS     DA   \nLibernal Lopez Jhonfreth De Jesus                      DB     DB     DA   \nNieto Hincapié Yeferson                                DS     DS     DA   \nMartinez Carmona Moise Jesus                           DA     DA     DA   \nMenco Jimenez Juan Sebastian                           DS     DS     DA   \nBalzan Doria Sebastian Jose                            DA     DA     DA   \nPulgarín De Ossa Jeronimo                              DS     DS     DS   \nNaN                                                   NaN    NaN    NaN   \nNaN                                                   NaN    NaN    NaN   \n\n                                                      ETI     EF    REL  \\\nAPELLIDOS Y NOMBRES                                                       \nAlvarez Ocampo Juan Esteban                            DS     DA     DS   \nArango Graciano Jimena                                 DS     DA     DS   \nArboleda Vahos Yulithza                                DS     DA     DS   \nBecerra Caicedo David                                  DA     DA     DA   \nCastaño Lujan Samuel Andrey                            DA     DA     DA   \nChavarria Jaramillo Juan Sebastian                     DA     DB     DA   \nChavez Perez Helen Johana                              DS     DA     DS   \nCorrea Causado Jesus David  SE RETIRO EL 27 DE ...    NaN    NaN    NaN   \nCuevas Bello Sheyra Camila Nueva 2024                  DA     DB     DA   \nGuerra Parra Dilan Arley SE RETIRÓ EL 22/10/2024      NaN    NaN    NaN   \nMarin Henao Josty                                      DB     DA     DB   \nMoreno Guisao Juan Pablo                               DA     DA     DA   \nPerez Garcia Sebastian                                 DS     DA     DS   \nQuiroz Perez Keiner Jose                               DB     DA     DB   \nRamos Segovia Alcira Maria SE RETIRO EL 08/03/24      NaN    NaN    NaN   \nRuiz Hincapié Steven Daniel PASÓ DE LA NOCHE           DS     DA     DS   \nSeguro Querubin Xilani Yelisa                       DBAJO  DBAJO  DBAJO   \nTapasco Lopez Juan Jose                                DS     DA     DS   \nTobon Gallego Juan Pablo                               DB     DB     DB   \nUsuga Baena Melannie                                   DA     DA     DA   \nVillegas Jimenez Miguel                                DA     DB     DA   \nYepez Carrasco Yosue Alexander DESERTOR               NaN    NaN    NaN   \nZuluaga Palomino Juan Pablo TUVO PROMOCIÓN ANTI...     DB     DA     DB   \nRamirez Aguirre Juan Esteban                           DS     DB     DS   \nRamos Segovia Alcira Maria SE RETIRO EL 08/03/24      NaN    NaN    NaN   \nVelez Buitrago Juan Manuel                             DA     DA     DA   \nViloria Muñoz Adrian                                   DS     DA     DS   \nGomez Loaiza Valerie                                   DB     DB     DB   \nGallego Quiros Simon Felipe                            DS     DA     DS   \nGuerra Arenas Santiago                                 DS     DA     DS   \nLibernal Lopez Jhonfreth De Jesus                      DB     DA     DB   \nNieto Hincapié Yeferson                                DS     DA     DS   \nMartinez Carmona Moise Jesus                           DA     DA     DA   \nMenco Jimenez Juan Sebastian                           DB     DA     DB   \nBalzan Doria Sebastian Jose                            DB     DA     DB   \nPulgarín De Ossa Jeronimo                              DS     DA     DS   \nNaN                                                   NaN    NaN    NaN   \nNaN                                                   NaN    NaN    NaN   \n\n                                                       LC    ING    MAT  \\\nAPELLIDOS Y NOMBRES                                                       \nAlvarez Ocampo Juan Esteban                            DB     DS     DS   \nArango Graciano Jimena                                 DB     DA     DS   \nArboleda Vahos Yulithza                                DS     DA     DA   \nBecerra Caicedo David                                  DA     DS     DA   \nCastaño Lujan Samuel Andrey                            DA     DA     DA   \nChavarria Jaramillo Juan Sebastian                     DB     DB     DS   \nChavez Perez Helen Johana                              DB     DB     DA   \nCorrea Causado Jesus David  SE RETIRO EL 27 DE ...    NaN    NaN    NaN   \nCuevas Bello Sheyra Camila Nueva 2024                  DA     DA     DA   \nGuerra Parra Dilan Arley SE RETIRÓ EL 22/10/2024      NaN    NaN    NaN   \nMarin Henao Josty                                      DB     DB     DA   \nMoreno Guisao Juan Pablo                            DBAJO  DBAJO     DA   \nPerez Garcia Sebastian                                 DB     DA     DS   \nQuiroz Perez Keiner Jose                            DBAJO     DB     DB   \nRamos Segovia Alcira Maria SE RETIRO EL 08/03/24      NaN    NaN    NaN   \nRuiz Hincapié Steven Daniel PASÓ DE LA NOCHE        DBAJO     DS     DS   \nSeguro Querubin Xilani Yelisa                       DBAJO  DBAJO  DBAJO   \nTapasco Lopez Juan Jose                                DA     DS     DS   \nTobon Gallego Juan Pablo                            DBAJO  DBAJO     DB   \nUsuga Baena Melannie                                  DB      DA     DA   \nVillegas Jimenez Miguel                                DB     DA     DA   \nYepez Carrasco Yosue Alexander DESERTOR               NaN    NaN    NaN   \nZuluaga Palomino Juan Pablo TUVO PROMOCIÓN ANTI...     DB     DB     DA   \nRamirez Aguirre Juan Esteban                           DB     DS     DS   \nRamos Segovia Alcira Maria SE RETIRO EL 08/03/24      NaN    NaN    NaN   \nVelez Buitrago Juan Manuel                             DB     DA     DB   \nViloria Muñoz Adrian                                   DA     DS     DA   \nGomez Loaiza Valerie                                   DB     DA     DA   \nGallego Quiros Simon Felipe                            DS     DS     DS   \nGuerra Arenas Santiago                                 DS     DA     DA   \nLibernal Lopez Jhonfreth De Jesus                      DB     DB     DB   \nNieto Hincapié Yeferson                                DA     DA     DS   \nMartinez Carmona Moise Jesus                        DBAJO     DB     DB   \nMenco Jimenez Juan Sebastian                           DA     DB     DA   \nBalzan Doria Sebastian Jose                            DB     DB     DB   \nPulgarín De Ossa Jeronimo                              DA     DA     DA   \nNaN                                                   NaN    NaN    NaN   \nNaN                                                   NaN    NaN    NaN   \n\n                                                      TEC    FIL     MT  \nAPELLIDOS Y NOMBRES                                                      \nAlvarez Ocampo Juan Esteban                            DA     DS     DB  \nArango Graciano Jimena                                 DS     DS     DB  \nArboleda Vahos Yulithza                                DS     DS     DB  \nBecerra Caicedo David                                  DA     DA     DB  \nCastaño Lujan Samuel Andrey                            DA     DA     DB  \nChavarria Jaramillo Juan Sebastian                     DB     DA     DB  \nChavez Perez Helen Johana                              DA     DS     DB  \nCorrea Causado Jesus David  SE RETIRO EL 27 DE ...    NaN    NaN    NaN  \nCuevas Bello Sheyra Camila Nueva 2024                  DA     DA     DB  \nGuerra Parra Dilan Arley SE RETIRÓ EL 22/10/2024      NaN    NaN    NaN  \nMarin Henao Josty                                      DA     DB     DB  \nMoreno Guisao Juan Pablo                               DB     DA     DB  \nPerez Garcia Sebastian                                 DA     DS     DB  \nQuiroz Perez Keiner Jose                               DB     DB     DB  \nRamos Segovia Alcira Maria SE RETIRO EL 08/03/24      NaN    NaN    NaN  \nRuiz Hincapié Steven Daniel PASÓ DE LA NOCHE           DA     DS     DB  \nSeguro Querubin Xilani Yelisa                       DBAJO  DBAJO  DBAJO  \nTapasco Lopez Juan Jose                                DA     DS     DB  \nTobon Gallego Juan Pablo                               DB     DB     DB  \nUsuga Baena Melannie                                   DA     DA     DB  \nVillegas Jimenez Miguel                                DB     DA     DB  \nYepez Carrasco Yosue Alexander DESERTOR               NaN    NaN    NaN  \nZuluaga Palomino Juan Pablo TUVO PROMOCIÓN ANTI...     DB     DB     DB  \nRamirez Aguirre Juan Esteban                           DA     DS     DB  \nRamos Segovia Alcira Maria SE RETIRO EL 08/03/24      NaN    NaN    NaN  \nVelez Buitrago Juan Manuel                             DB     DA     DB  \nViloria Muñoz Adrian                                   DA     DS     DB  \nGomez Loaiza Valerie                                   DA     DB     DB  \nGallego Quiros Simon Felipe                            DS     DS     DA  \nGuerra Arenas Santiago                                 DA     DS     DB  \nLibernal Lopez Jhonfreth De Jesus                      DB     DB     DB  \nNieto Hincapié Yeferson                                DS     DS     DA  \nMartinez Carmona Moise Jesus                           DB     DA     DB  \nMenco Jimenez Juan Sebastian                           DA     DB     DB  \nBalzan Doria Sebastian Jose                            DB     DB     DB  \nPulgarín De Ossa Jeronimo                              DA     DS     DB  \nNaN                                                   NaN    NaN    NaN  \nNaN                                                   NaN    NaN    NaN  ",
      "text/html": "<div>\n<style scoped>\n    .dataframe tbody tr th:only-of-type {\n        vertical-align: middle;\n    }\n\n    .dataframe tbody tr th {\n        vertical-align: top;\n    }\n\n    .dataframe thead th {\n        text-align: right;\n    }\n</style>\n<table border=\"1\" class=\"dataframe\">\n  <thead>\n    <tr style=\"text-align: right;\">\n      <th></th>\n      <th>QUÍ</th>\n      <th>BIO</th>\n      <th>FIS</th>\n      <th>SOC</th>\n      <th>CEP</th>\n      <th>ART</th>\n      <th>ETI</th>\n      <th>EF</th>\n      <th>REL</th>\n      <th>LC</th>\n      <th>ING</th>\n      <th>MAT</th>\n      <th>TEC</th>\n      <th>FIL</th>\n      <th>MT</th>\n    </tr>\n    <tr>\n      <th>APELLIDOS Y NOMBRES</th>\n      <th></th>\n      <th></th>\n      <th></th>\n      <th></th>\n      <th></th>\n      <th></th>\n      <th></th>\n      <th></th>\n      <th></th>\n      <th></th>\n      <th></th>\n      <th></th>\n      <th></th>\n      <th></th>\n      <th></th>\n    </tr>\n  </thead>\n  <tbody>\n    <tr>\n      <th>Alvarez Ocampo Juan Esteban</th>\n      <td>DS</td>\n      <td>DS</td>\n      <td>DA</td>\n      <td>DS</td>\n      <td>DS</td>\n      <td>DA</td>\n      <td>DS</td>\n      <td>DA</td>\n      <td>DS</td>\n      <td>DB</td>\n      <td>DS</td>\n      <td>DS</td>\n      <td>DA</td>\n      <td>DS</td>\n      <td>DB</td>\n    </tr>\n    <tr>\n      <th>Arango Graciano Jimena</th>\n      <td>DA</td>\n      <td>DA</td>\n      <td>DB</td>\n      <td>DS</td>\n      <td>DS</td>\n      <td>DS</td>\n      <td>DS</td>\n      <td>DA</td>\n      <td>DS</td>\n      <td>DB</td>\n      <td>DA</td>\n      <td>DS</td>\n      <td>DS</td>\n      <td>DS</td>\n      <td>DB</td>\n    </tr>\n    <tr>\n      <th>Arboleda Vahos Yulithza</th>\n      <td>DB</td>\n      <td>DA</td>\n      <td>DB</td>\n      <td>DS</td>\n      <td>DS</td>\n      <td>DA</td>\n      <td>DS</td>\n      <td>DA</td>\n      <td>DS</td>\n      <td>DS</td>\n      <td>DA</td>\n      <td>DA</td>\n      <td>DS</td>\n      <td>DS</td>\n      <td>DB</td>\n    </tr>\n    <tr>\n      <th>Becerra Caicedo David</th>\n      <td>DA</td>\n      <td>DA</td>\n      <td>DB</td>\n      <td>DS</td>\n      <td>DS</td>\n      <td>DS</td>\n      <td>DA</td>\n      <td>DA</td>\n      <td>DA</td>\n      <td>DA</td>\n      <td>DS</td>\n      <td>DA</td>\n      <td>DA</td>\n      <td>DA</td>\n      <td>DB</td>\n    </tr>\n    <tr>\n      <th>Castaño Lujan Samuel Andrey</th>\n      <td>DB</td>\n      <td>DA</td>\n      <td>DA</td>\n      <td>DS</td>\n      <td>DS</td>\n      <td>DA</td>\n      <td>DA</td>\n      <td>DA</td>\n      <td>DA</td>\n      <td>DA</td>\n      <td>DA</td>\n      <td>DA</td>\n      <td>DA</td>\n      <td>DA</td>\n      <td>DB</td>\n    </tr>\n    <tr>\n      <th>Chavarria Jaramillo Juan Sebastian</th>\n      <td>DA</td>\n      <td>DA</td>\n      <td>DB</td>\n      <td>DS</td>\n      <td>DS</td>\n      <td>DA</td>\n      <td>DA</td>\n      <td>DB</td>\n      <td>DA</td>\n      <td>DB</td>\n      <td>DB</td>\n      <td>DS</td>\n      <td>DB</td>\n      <td>DA</td>\n      <td>DB</td>\n    </tr>\n    <tr>\n      <th>Chavez Perez Helen Johana</th>\n      <td>DB</td>\n      <td>DA</td>\n      <td>DA</td>\n      <td>DA</td>\n      <td>DA</td>\n      <td>DA</td>\n      <td>DS</td>\n      <td>DA</td>\n      <td>DS</td>\n      <td>DB</td>\n      <td>DB</td>\n      <td>DA</td>\n      <td>DA</td>\n      <td>DS</td>\n      <td>DB</td>\n    </tr>\n    <tr>\n      <th>Correa Causado Jesus David  SE RETIRO EL 27 DE FEB/24</th>\n      <td>NaN</td>\n      <td>NaN</td>\n      <td>NaN</td>\n      <td>NaN</td>\n      <td>NaN</td>\n      <td>NaN</td>\n      <td>NaN</td>\n      <td>NaN</td>\n      <td>NaN</td>\n      <td>NaN</td>\n      <td>NaN</td>\n      <td>NaN</td>\n      <td>NaN</td>\n      <td>NaN</td>\n      <td>NaN</td>\n    </tr>\n    <tr>\n      <th>Cuevas Bello Sheyra Camila Nueva 2024</th>\n      <td>DB</td>\n      <td>DB</td>\n      <td>DA</td>\n      <td>DS</td>\n      <td>DS</td>\n      <td>DA</td>\n      <td>DA</td>\n      <td>DB</td>\n      <td>DA</td>\n      <td>DA</td>\n      <td>DA</td>\n      <td>DA</td>\n      <td>DA</td>\n      <td>DA</td>\n      <td>DB</td>\n    </tr>\n    <tr>\n      <th>Guerra Parra Dilan Arley SE RETIRÓ EL 22/10/2024</th>\n      <td>NaN</td>\n      <td>NaN</td>\n      <td>NaN</td>\n      <td>NaN</td>\n      <td>NaN</td>\n      <td>NaN</td>\n      <td>NaN</td>\n      <td>NaN</td>\n      <td>NaN</td>\n      <td>NaN</td>\n      <td>NaN</td>\n      <td>NaN</td>\n      <td>NaN</td>\n      <td>NaN</td>\n      <td>NaN</td>\n    </tr>\n    <tr>\n      <th>Marin Henao Josty</th>\n      <td>DB</td>\n      <td>DB</td>\n      <td>DB</td>\n      <td>DA</td>\n      <td>DA</td>\n      <td>DA</td>\n      <td>DB</td>\n      <td>DA</td>\n      <td>DB</td>\n      <td>DB</td>\n      <td>DB</td>\n      <td>DA</td>\n      <td>DA</td>\n      <td>DB</td>\n      <td>DB</td>\n    </tr>\n    <tr>\n      <th>Moreno Guisao Juan Pablo</th>\n      <td>DB</td>\n      <td>DB</td>\n      <td>DB</td>\n      <td>DB</td>\n      <td>DB</td>\n      <td>DA</td>\n      <td>DA</td>\n      <td>DA</td>\n      <td>DA</td>\n      <td>DBAJO</td>\n      <td>DBAJO</td>\n      <td>DA</td>\n      <td>DB</td>\n      <td>DA</td>\n      <td>DB</td>\n    </tr>\n    <tr>\n      <th>Perez Garcia Sebastian</th>\n      <td>DA</td>\n      <td>DA</td>\n      <td>DA</td>\n      <td>DS</td>\n      <td>DS</td>\n      <td>DS</td>\n      <td>DS</td>\n      <td>DA</td>\n      <td>DS</td>\n      <td>DB</td>\n      <td>DA</td>\n      <td>DS</td>\n      <td>DA</td>\n      <td>DS</td>\n      <td>DB</td>\n    </tr>\n    <tr>\n      <th>Quiroz Perez Keiner Jose</th>\n      <td>DB</td>\n      <td>DB</td>\n      <td>DB</td>\n      <td>DA</td>\n      <td>DA</td>\n      <td>DA</td>\n      <td>DB</td>\n      <td>DA</td>\n      <td>DB</td>\n      <td>DBAJO</td>\n      <td>DB</td>\n      <td>DB</td>\n      <td>DB</td>\n      <td>DB</td>\n      <td>DB</td>\n    </tr>\n    <tr>\n      <th>Ramos Segovia Alcira Maria SE RETIRO EL 08/03/24</th>\n      <td>NaN</td>\n      <td>NaN</td>\n      <td>NaN</td>\n      <td>NaN</td>\n      <td>NaN</td>\n      <td>NaN</td>\n      <td>NaN</td>\n      <td>NaN</td>\n      <td>NaN</td>\n      <td>NaN</td>\n      <td>NaN</td>\n      <td>NaN</td>\n      <td>NaN</td>\n      <td>NaN</td>\n      <td>NaN</td>\n    </tr>\n    <tr>\n      <th>Ruiz Hincapié Steven Daniel PASÓ DE LA NOCHE</th>\n      <td>DS</td>\n      <td>DS</td>\n      <td>DB</td>\n      <td>DA</td>\n      <td>DA</td>\n      <td>DA</td>\n      <td>DS</td>\n      <td>DA</td>\n      <td>DS</td>\n      <td>DBAJO</td>\n      <td>DS</td>\n      <td>DS</td>\n      <td>DA</td>\n      <td>DS</td>\n      <td>DB</td>\n    </tr>\n    <tr>\n      <th>Seguro Querubin Xilani Yelisa</th>\n      <td>DBAJO</td>\n      <td>DBAJO</td>\n      <td>DBAJO</td>\n      <td>DBAJO</td>\n      <td>DBAJO</td>\n      <td>DBAJO</td>\n      <td>DBAJO</td>\n      <td>DBAJO</td>\n      <td>DBAJO</td>\n      <td>DBAJO</td>\n      <td>DBAJO</td>\n      <td>DBAJO</td>\n      <td>DBAJO</td>\n      <td>DBAJO</td>\n      <td>DBAJO</td>\n    </tr>\n    <tr>\n      <th>Tapasco Lopez Juan Jose</th>\n      <td>DS</td>\n      <td>DA</td>\n      <td>DA</td>\n      <td>DA</td>\n      <td>DA</td>\n      <td>DA</td>\n      <td>DS</td>\n      <td>DA</td>\n      <td>DS</td>\n      <td>DA</td>\n      <td>DS</td>\n      <td>DS</td>\n      <td>DA</td>\n      <td>DS</td>\n      <td>DB</td>\n    </tr>\n    <tr>\n      <th>Tobon Gallego Juan Pablo</th>\n      <td>DBAJO</td>\n      <td>DBAJO</td>\n      <td>DBAJO</td>\n      <td>DA</td>\n      <td>DA</td>\n      <td>DA</td>\n      <td>DB</td>\n      <td>DB</td>\n      <td>DB</td>\n      <td>DBAJO</td>\n      <td>DBAJO</td>\n      <td>DB</td>\n      <td>DB</td>\n      <td>DB</td>\n      <td>DB</td>\n    </tr>\n    <tr>\n      <th>Usuga Baena Melannie</th>\n      <td>DB</td>\n      <td>DA</td>\n      <td>DB</td>\n      <td>DS</td>\n      <td>DS</td>\n      <td>DA</td>\n      <td>DA</td>\n      <td>DA</td>\n      <td>DA</td>\n      <td>DB</td>\n      <td>DA</td>\n      <td>DA</td>\n      <td>DA</td>\n      <td>DA</td>\n      <td>DB</td>\n    </tr>\n    <tr>\n      <th>Villegas Jimenez Miguel</th>\n      <td>DB</td>\n      <td>DA</td>\n      <td>DB</td>\n      <td>DS</td>\n      <td>DS</td>\n      <td>DA</td>\n      <td>DA</td>\n      <td>DB</td>\n      <td>DA</td>\n      <td>DB</td>\n      <td>DA</td>\n      <td>DA</td>\n      <td>DB</td>\n      <td>DA</td>\n      <td>DB</td>\n    </tr>\n    <tr>\n      <th>Yepez Carrasco Yosue Alexander DESERTOR</th>\n      <td>NaN</td>\n      <td>NaN</td>\n      <td>NaN</td>\n      <td>NaN</td>\n      <td>NaN</td>\n      <td>NaN</td>\n      <td>NaN</td>\n      <td>NaN</td>\n      <td>NaN</td>\n      <td>NaN</td>\n      <td>NaN</td>\n      <td>NaN</td>\n      <td>NaN</td>\n      <td>NaN</td>\n      <td>NaN</td>\n    </tr>\n    <tr>\n      <th>Zuluaga Palomino Juan Pablo TUVO PROMOCIÓN ANTICIPADA 13/03/24</th>\n      <td>DB</td>\n      <td>DB</td>\n      <td>DB</td>\n      <td>DA</td>\n      <td>DA</td>\n      <td>DA</td>\n      <td>DB</td>\n      <td>DA</td>\n      <td>DB</td>\n      <td>DB</td>\n      <td>DB</td>\n      <td>DA</td>\n      <td>DB</td>\n      <td>DB</td>\n      <td>DB</td>\n    </tr>\n    <tr>\n      <th>Ramirez Aguirre Juan Esteban</th>\n      <td>DS</td>\n      <td>DS</td>\n      <td>DA</td>\n      <td>DA</td>\n      <td>DA</td>\n      <td>DA</td>\n      <td>DS</td>\n      <td>DB</td>\n      <td>DS</td>\n      <td>DB</td>\n      <td>DS</td>\n      <td>DS</td>\n      <td>DA</td>\n      <td>DS</td>\n      <td>DB</td>\n    </tr>\n    <tr>\n      <th>Ramos Segovia Alcira Maria SE RETIRO EL 08/03/24</th>\n      <td>NaN</td>\n      <td>NaN</td>\n      <td>NaN</td>\n      <td>NaN</td>\n      <td>NaN</td>\n      <td>NaN</td>\n      <td>NaN</td>\n      <td>NaN</td>\n      <td>NaN</td>\n      <td>NaN</td>\n      <td>NaN</td>\n      <td>NaN</td>\n      <td>NaN</td>\n      <td>NaN</td>\n      <td>NaN</td>\n    </tr>\n    <tr>\n      <th>Velez Buitrago Juan Manuel</th>\n      <td>DB</td>\n      <td>DB</td>\n      <td>DB</td>\n      <td>DS</td>\n      <td>DS</td>\n      <td>DA</td>\n      <td>DA</td>\n      <td>DA</td>\n      <td>DA</td>\n      <td>DB</td>\n      <td>DA</td>\n      <td>DB</td>\n      <td>DB</td>\n      <td>DA</td>\n      <td>DB</td>\n    </tr>\n    <tr>\n      <th>Viloria Muñoz Adrian</th>\n      <td>DA</td>\n      <td>DA</td>\n      <td>DA</td>\n      <td>DS</td>\n      <td>DS</td>\n      <td>DA</td>\n      <td>DS</td>\n      <td>DA</td>\n      <td>DS</td>\n      <td>DA</td>\n      <td>DS</td>\n      <td>DA</td>\n      <td>DA</td>\n      <td>DS</td>\n      <td>DB</td>\n    </tr>\n    <tr>\n      <th>Gomez Loaiza Valerie</th>\n      <td>DB</td>\n      <td>DB</td>\n      <td>DB</td>\n      <td>DA</td>\n      <td>DA</td>\n      <td>DA</td>\n      <td>DB</td>\n      <td>DB</td>\n      <td>DB</td>\n      <td>DB</td>\n      <td>DA</td>\n      <td>DA</td>\n      <td>DA</td>\n      <td>DB</td>\n      <td>DB</td>\n    </tr>\n    <tr>\n      <th>Gallego Quiros Simon Felipe</th>\n      <td>DA</td>\n      <td>DA</td>\n      <td>DA</td>\n      <td>DS</td>\n      <td>DS</td>\n      <td>DS</td>\n      <td>DS</td>\n      <td>DA</td>\n      <td>DS</td>\n      <td>DS</td>\n      <td>DS</td>\n      <td>DS</td>\n      <td>DS</td>\n      <td>DS</td>\n      <td>DA</td>\n    </tr>\n    <tr>\n      <th>Guerra Arenas Santiago</th>\n      <td>DA</td>\n      <td>DA</td>\n      <td>DA</td>\n      <td>DS</td>\n      <td>DS</td>\n      <td>DA</td>\n      <td>DS</td>\n      <td>DA</td>\n      <td>DS</td>\n      <td>DS</td>\n      <td>DA</td>\n      <td>DA</td>\n      <td>DA</td>\n      <td>DS</td>\n      <td>DB</td>\n    </tr>\n    <tr>\n      <th>Libernal Lopez Jhonfreth De Jesus</th>\n      <td>DB</td>\n      <td>DB</td>\n      <td>DB</td>\n      <td>DB</td>\n      <td>DB</td>\n      <td>DA</td>\n      <td>DB</td>\n      <td>DA</td>\n      <td>DB</td>\n      <td>DB</td>\n      <td>DB</td>\n      <td>DB</td>\n      <td>DB</td>\n      <td>DB</td>\n      <td>DB</td>\n    </tr>\n    <tr>\n      <th>Nieto Hincapié Yeferson</th>\n      <td>DS</td>\n      <td>DS</td>\n      <td>DA</td>\n      <td>DS</td>\n      <td>DS</td>\n      <td>DA</td>\n      <td>DS</td>\n      <td>DA</td>\n      <td>DS</td>\n      <td>DA</td>\n      <td>DA</td>\n      <td>DS</td>\n      <td>DS</td>\n      <td>DS</td>\n      <td>DA</td>\n    </tr>\n    <tr>\n      <th>Martinez Carmona Moise Jesus</th>\n      <td>DB</td>\n      <td>DB</td>\n      <td>DB</td>\n      <td>DA</td>\n      <td>DA</td>\n      <td>DA</td>\n      <td>DA</td>\n      <td>DA</td>\n      <td>DA</td>\n      <td>DBAJO</td>\n      <td>DB</td>\n      <td>DB</td>\n      <td>DB</td>\n      <td>DA</td>\n      <td>DB</td>\n    </tr>\n    <tr>\n      <th>Menco Jimenez Juan Sebastian</th>\n      <td>DB</td>\n      <td>DA</td>\n      <td>DB</td>\n      <td>DS</td>\n      <td>DS</td>\n      <td>DA</td>\n      <td>DB</td>\n      <td>DA</td>\n      <td>DB</td>\n      <td>DA</td>\n      <td>DB</td>\n      <td>DA</td>\n      <td>DA</td>\n      <td>DB</td>\n      <td>DB</td>\n    </tr>\n    <tr>\n      <th>Balzan Doria Sebastian Jose</th>\n      <td>DBAJO</td>\n      <td>DBAJO</td>\n      <td>DB</td>\n      <td>DA</td>\n      <td>DA</td>\n      <td>DA</td>\n      <td>DB</td>\n      <td>DA</td>\n      <td>DB</td>\n      <td>DB</td>\n      <td>DB</td>\n      <td>DB</td>\n      <td>DB</td>\n      <td>DB</td>\n      <td>DB</td>\n    </tr>\n    <tr>\n      <th>Pulgarín De Ossa Jeronimo</th>\n      <td>DB</td>\n      <td>DA</td>\n      <td>DB</td>\n      <td>DS</td>\n      <td>DS</td>\n      <td>DS</td>\n      <td>DS</td>\n      <td>DA</td>\n      <td>DS</td>\n      <td>DA</td>\n      <td>DA</td>\n      <td>DA</td>\n      <td>DA</td>\n      <td>DS</td>\n      <td>DB</td>\n    </tr>\n    <tr>\n      <th>NaN</th>\n      <td>NaN</td>\n      <td>NaN</td>\n      <td>NaN</td>\n      <td>NaN</td>\n      <td>NaN</td>\n      <td>NaN</td>\n      <td>NaN</td>\n      <td>NaN</td>\n      <td>NaN</td>\n      <td>NaN</td>\n      <td>NaN</td>\n      <td>NaN</td>\n      <td>NaN</td>\n      <td>NaN</td>\n      <td>NaN</td>\n    </tr>\n    <tr>\n      <th>NaN</th>\n      <td>NaN</td>\n      <td>NaN</td>\n      <td>NaN</td>\n      <td>NaN</td>\n      <td>NaN</td>\n      <td>NaN</td>\n      <td>NaN</td>\n      <td>NaN</td>\n      <td>NaN</td>\n      <td>NaN</td>\n      <td>NaN</td>\n      <td>NaN</td>\n      <td>NaN</td>\n      <td>NaN</td>\n      <td>NaN</td>\n    </tr>\n  </tbody>\n</table>\n</div>"
     },
     "execution_count": 33,
     "metadata": {},
     "output_type": "execute_result"
    }
   ],
   "source": [
    "\n",
    "\n",
    "def process_workbook(route, quarter):\n",
    "    df = pd.read_excel(route, sheet_name=quarter)\n",
    "\n",
    "    df.columns = [str(col).strip() for col in df.iloc[8].tolist()]\n",
    "    df = df.iloc[9:, 2:]\n",
    "    df = df.loc[:, :'TP'].iloc[:, :-1]\n",
    "    df = df.set_index('APELLIDOS Y NOMBRES')\n",
    "\n",
    "    df = df.infer_objects()\n",
    "    original_df = df\n",
    "    # df = replace_notes(df)\n",
    "    return df\n",
    "\n",
    "process_workbook(example_route, 2)"
   ],
   "metadata": {
    "collapsed": false,
    "ExecuteTime": {
     "end_time": "2025-01-27T14:31:24.794944Z",
     "start_time": "2025-01-27T14:31:24.685421800Z"
    }
   },
   "id": "f6aa22b3c5d1f3e1",
   "execution_count": 33
  }
 ],
 "metadata": {
  "kernelspec": {
   "display_name": "Python 3",
   "language": "python",
   "name": "python3"
  },
  "language_info": {
   "codemirror_mode": {
    "name": "ipython",
    "version": 2
   },
   "file_extension": ".py",
   "mimetype": "text/x-python",
   "name": "python",
   "nbconvert_exporter": "python",
   "pygments_lexer": "ipython2",
   "version": "2.7.6"
  }
 },
 "nbformat": 4,
 "nbformat_minor": 5
}
